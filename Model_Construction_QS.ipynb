{
 "cells": [
  {
   "cell_type": "code",
   "execution_count": 1,
   "id": "2a69cb53",
   "metadata": {},
   "outputs": [],
   "source": [
    "import numpy as np\n",
    "import pandas as pd\n",
    "from sklearn.decomposition import PCA\n",
    "import matplotlib.pyplot as plt\n",
    "import scipy.stats as stats\n",
    "from sklearn.preprocessing import StandardScaler\n",
    "from factor_analyzer.factor_analyzer import calculate_kmo\n",
    "from factor_analyzer.factor_analyzer import calculate_bartlett_sphericity\n",
    "from factor_analyzer import FactorAnalyzer\n",
    "from sklearn.decomposition import FactorAnalysis\n",
    "\n",
    "import matplotlib.pyplot as plt\n",
    "import seaborn as sns"
   ]
  },
  {
   "cell_type": "code",
   "execution_count": 2,
   "id": "1793b182",
   "metadata": {},
   "outputs": [],
   "source": [
    "data1 = pd.read_csv(r\"datasets\\imputed_data_QS_RF.csv\")\n",
    "data2 = pd.read_csv(r\"datasets\\imputed_data_QS_XGB.csv\")\n",
    "data2_sub = data2[['Institution Name', 'Year', 'IRN_SCORE', 'EO_SCORE', 'S_SCORE']]\n",
    "# 进行合并\n",
    "merged_df = pd.merge(data1, data2_sub, on=['Institution Name', 'Year'], how='left')\n",
    "# 计算平均值并创建新列\n",
    "merged_df['IRN_SCORE'] = (merged_df['IRN_SCORE_x'] + merged_df['IRN_SCORE_y']) / 2\n",
    "merged_df['EO_SCORE']  = (merged_df['EO_SCORE_x']  + merged_df['EO_SCORE_y'])  / 2\n",
    "merged_df['S_SCORE']   = (merged_df['S_SCORE_x']   + merged_df['S_SCORE_y'])   / 2\n",
    "merged_df.drop(columns=['IRN_SCORE_x', 'IRN_SCORE_y',\n",
    "                        'EO_SCORE_x',  'EO_SCORE_y',\n",
    "                        'S_SCORE_x',   'S_SCORE_y'], inplace=True)\n",
    "data = merged_df\n",
    "numeric_data = data.drop(columns=['Rank', 'Institution Name', 'Country', 'Year','CS','CF','RI','Age','STA','Overall'])\n",
    "numeric_data_standardized = (numeric_data - numeric_data.mean()) / numeric_data.std()\n",
    " "
   ]
  },
  {
   "cell_type": "code",
   "execution_count": 3,
   "id": "e78f3086",
   "metadata": {},
   "outputs": [
    {
     "data": {
      "text/html": [
       "<div>\n",
       "<style scoped>\n",
       "    .dataframe tbody tr th:only-of-type {\n",
       "        vertical-align: middle;\n",
       "    }\n",
       "\n",
       "    .dataframe tbody tr th {\n",
       "        vertical-align: top;\n",
       "    }\n",
       "\n",
       "    .dataframe thead th {\n",
       "        text-align: right;\n",
       "    }\n",
       "</style>\n",
       "<table border=\"1\" class=\"dataframe\">\n",
       "  <thead>\n",
       "    <tr style=\"text-align: right;\">\n",
       "      <th></th>\n",
       "      <th>AR_SCORE</th>\n",
       "      <th>ER_SCORE</th>\n",
       "      <th>FS_SCORE</th>\n",
       "      <th>CPF_SCORE</th>\n",
       "      <th>IF_SCORE</th>\n",
       "      <th>IS_SCORE</th>\n",
       "      <th>IRN_SCORE</th>\n",
       "      <th>EO_SCORE</th>\n",
       "      <th>S_SCORE</th>\n",
       "    </tr>\n",
       "  </thead>\n",
       "  <tbody>\n",
       "    <tr>\n",
       "      <th>0</th>\n",
       "      <td>2.860526</td>\n",
       "      <td>2.722843</td>\n",
       "      <td>2.177381</td>\n",
       "      <td>2.302591</td>\n",
       "      <td>1.800375</td>\n",
       "      <td>1.988527</td>\n",
       "      <td>1.232425</td>\n",
       "      <td>2.918425</td>\n",
       "      <td>1.913042</td>\n",
       "    </tr>\n",
       "    <tr>\n",
       "      <th>1</th>\n",
       "      <td>2.860526</td>\n",
       "      <td>2.722843</td>\n",
       "      <td>2.177381</td>\n",
       "      <td>2.285786</td>\n",
       "      <td>1.789078</td>\n",
       "      <td>1.256705</td>\n",
       "      <td>1.574039</td>\n",
       "      <td>2.961351</td>\n",
       "      <td>1.930189</td>\n",
       "    </tr>\n",
       "    <tr>\n",
       "      <th>2</th>\n",
       "      <td>2.860526</td>\n",
       "      <td>2.722843</td>\n",
       "      <td>2.120115</td>\n",
       "      <td>2.302591</td>\n",
       "      <td>1.701525</td>\n",
       "      <td>1.334891</td>\n",
       "      <td>1.549857</td>\n",
       "      <td>2.940762</td>\n",
       "      <td>1.956016</td>\n",
       "    </tr>\n",
       "    <tr>\n",
       "      <th>3</th>\n",
       "      <td>2.840967</td>\n",
       "      <td>2.177224</td>\n",
       "      <td>2.177381</td>\n",
       "      <td>2.305952</td>\n",
       "      <td>1.613973</td>\n",
       "      <td>1.772733</td>\n",
       "      <td>0.580724</td>\n",
       "      <td>1.317907</td>\n",
       "      <td>1.042702</td>\n",
       "    </tr>\n",
       "    <tr>\n",
       "      <th>4</th>\n",
       "      <td>2.860526</td>\n",
       "      <td>2.722843</td>\n",
       "      <td>2.177381</td>\n",
       "      <td>1.576632</td>\n",
       "      <td>1.726944</td>\n",
       "      <td>2.038566</td>\n",
       "      <td>1.583625</td>\n",
       "      <td>2.950500</td>\n",
       "      <td>1.603607</td>\n",
       "    </tr>\n",
       "  </tbody>\n",
       "</table>\n",
       "</div>"
      ],
      "text/plain": [
       "   AR_SCORE  ER_SCORE  FS_SCORE  CPF_SCORE  IF_SCORE  IS_SCORE  IRN_SCORE  \\\n",
       "0  2.860526  2.722843  2.177381   2.302591  1.800375  1.988527   1.232425   \n",
       "1  2.860526  2.722843  2.177381   2.285786  1.789078  1.256705   1.574039   \n",
       "2  2.860526  2.722843  2.120115   2.302591  1.701525  1.334891   1.549857   \n",
       "3  2.840967  2.177224  2.177381   2.305952  1.613973  1.772733   0.580724   \n",
       "4  2.860526  2.722843  2.177381   1.576632  1.726944  2.038566   1.583625   \n",
       "\n",
       "   EO_SCORE   S_SCORE  \n",
       "0  2.918425  1.913042  \n",
       "1  2.961351  1.930189  \n",
       "2  2.940762  1.956016  \n",
       "3  1.317907  1.042702  \n",
       "4  2.950500  1.603607  "
      ]
     },
     "execution_count": 3,
     "metadata": {},
     "output_type": "execute_result"
    }
   ],
   "source": [
    "numeric_data_standardized.head()"
   ]
  },
  {
   "cell_type": "code",
   "execution_count": 4,
   "id": "506234ac-ff2f-4ab0-8c96-9597f2fd9136",
   "metadata": {},
   "outputs": [],
   "source": [
    "file_patht = r\"datasets/cleaned_data_THE.csv\"\n",
    "dft = pd.read_csv(file_patht, encoding='latin1')"
   ]
  },
  {
   "cell_type": "markdown",
   "id": "031f9904",
   "metadata": {},
   "source": [
    "### Implementing PCA"
   ]
  },
  {
   "cell_type": "code",
   "execution_count": 5,
   "id": "68cb3d7c",
   "metadata": {
    "scrolled": true
   },
   "outputs": [
    {
     "name": "stdout",
     "output_type": "stream",
     "text": [
      "PC1: 54.87% variance explained\n",
      "PC2: 12.78% variance explained\n",
      "PC3: 10.68% variance explained\n",
      "PC4: 7.05% variance explained\n",
      "PC5: 5.40% variance explained\n",
      "PC6: 3.47% variance explained\n",
      "PC7: 2.45% variance explained\n",
      "PC8: 2.01% variance explained\n",
      "PC9: 1.29% variance explained\n"
     ]
    }
   ],
   "source": [
    "pca = PCA()\n",
    "pca.fit(numeric_data_standardized)\n",
    "\n",
    "explained_variance_ratio = pca.explained_variance_ratio_\n",
    "eigenvalues = pca.explained_variance_\n",
    "\n",
    "for i, var in enumerate(explained_variance_ratio, start=1):\n",
    "    print(f\"PC{i}: {var * 100:.2f}% variance explained\")"
   ]
  },
  {
   "cell_type": "markdown",
   "id": "2f7644a5",
   "metadata": {},
   "source": [
    "### Factor Analysis"
   ]
  },
  {
   "cell_type": "code",
   "execution_count": 6,
   "id": "02a65ee6",
   "metadata": {},
   "outputs": [
    {
     "data": {
      "text/plain": [
       "0.8635006378525298"
      ]
     },
     "execution_count": 6,
     "metadata": {},
     "output_type": "execute_result"
    }
   ],
   "source": [
    "# KMO Test\n",
    "scaler = StandardScaler()\n",
    "df_scaled = scaler.fit_transform(numeric_data)\n",
    "\n",
    "kmo_all,kmo_model=calculate_kmo(df_scaled)\n",
    "kmo_model"
   ]
  },
  {
   "cell_type": "code",
   "execution_count": 7,
   "id": "23a09eae",
   "metadata": {},
   "outputs": [
    {
     "name": "stdout",
     "output_type": "stream",
     "text": [
      "Bartlett's test of result:\n",
      "statistic = 53916.6097\n",
      "0.0 p-value\n"
     ]
    }
   ],
   "source": [
    "# Bartlett’s Test of Sphericity\n",
    "chi2_val, p_val = calculate_bartlett_sphericity(numeric_data)\n",
    "\n",
    "print(f\"Bartlett's test of result:\")\n",
    "print(f\"statistic = {chi2_val:.4f}\")\n",
    "print(p_val,\"p-value\")"
   ]
  },
  {
   "cell_type": "code",
   "execution_count": 8,
   "id": "ce58c741",
   "metadata": {},
   "outputs": [
    {
     "data": {
      "text/plain": [
       "array([4.93801103, 1.15023983, 0.96134098, 0.63418855, 0.4861908 ,\n",
       "       0.31221208, 0.22067411, 0.18088062, 0.116262  ])"
      ]
     },
     "execution_count": 8,
     "metadata": {},
     "output_type": "execute_result"
    }
   ],
   "source": [
    "from factor_analyzer import FactorAnalyzer\n",
    "fa = FactorAnalyzer()\n",
    "fa.fit(numeric_data_standardized)\n",
    "eigen_values, vectors = fa.get_eigenvalues()\n",
    "eigen_values"
   ]
  },
  {
   "cell_type": "code",
   "execution_count": 9,
   "id": "e5f11001",
   "metadata": {},
   "outputs": [
    {
     "data": {
      "image/png": "[encoded data removed]",
      "text/plain": [
       "<Figure size 640x480 with 1 Axes>"
      ]
     },
     "metadata": {},
     "output_type": "display_data"
    }
   ],
   "source": [
    "plt.scatter(range(1,df_scaled.shape[1]+1),eigen_values)\n",
    "plt.plot(range(1,df_scaled.shape[1]+1),eigen_values)\n",
    "plt.title('Scree Plot')\n",
    "plt.xlabel('Factors')\n",
    "plt.ylabel('Eigenvalue')\n",
    "plt.show()"
   ]
  },
  {
   "cell_type": "code",
   "execution_count": 10,
   "id": "181dec94",
   "metadata": {
    "scrolled": true
   },
   "outputs": [
    {
     "name": "stdout",
     "output_type": "stream",
     "text": [
      "Loading matrix：\n",
      "             Factor1   Factor2   Factor3   Factor4\n",
      "AR_SCORE   0.830400  0.154973  0.159562  0.407844\n",
      "ER_SCORE   0.891636  0.181939  0.125742  0.187283\n",
      "FS_SCORE   0.200306  0.093759  0.973899  0.043045\n",
      "CPF_SCORE  0.165706  0.202467  0.008022  0.829739\n",
      "IF_SCORE   0.162691  0.855887  0.039112  0.278967\n",
      "IS_SCORE   0.205551  0.883467  0.095141  0.152444\n",
      "IRN_SCORE  0.396751  0.187136  0.049063  0.774420\n",
      "EO_SCORE   0.858643  0.180056  0.119575  0.252046\n",
      "S_SCORE    0.537244  0.298661  0.097417  0.648350\n"
     ]
    }
   ],
   "source": [
    "fa = FactorAnalyzer(n_factors=4, rotation='varimax', method='principal')\n",
    "fa.fit(numeric_data_standardized)\n",
    "\n",
    "fa1 = FactorAnalyzer(n_factors=4, rotation=None, method='principal')\n",
    "fa1.fit(numeric_data_standardized)\n",
    "\n",
    "loadings = pd.DataFrame(\n",
    "    fa.loadings_,\n",
    "    index = numeric_data_standardized.columns,\n",
    "    columns=['Factor1', 'Factor2','Factor3','Factor4']\n",
    ")\n",
    "print(\"Loading matrix：\\n\", loadings)"
   ]
  },
  {
   "cell_type": "code",
   "execution_count": 11,
   "id": "682d875f",
   "metadata": {},
   "outputs": [
    {
     "data": {
      "image/png": "[encoded data removed]",
      "text/plain": [
       "<Figure size 640x480 with 2 Axes>"
      ]
     },
     "metadata": {},
     "output_type": "display_data"
    }
   ],
   "source": [
    "# Plot the difference of using rotation\n",
    "plt.subplot(1, 2, 1)\n",
    "plt.scatter(fa1.loadings_[:, 0], fa1.loadings_[:, 1], c='blue')\n",
    "plt.axhline(0, color='gray', linestyle='--')\n",
    "plt.axvline(0, color='gray', linestyle='--')\n",
    "plt.title(\"Before Varimax Rotation\")\n",
    "plt.xlabel(\"Factor 1\")\n",
    "plt.ylabel(\"Factor 2\")\n",
    "\n",
    "plt.subplot(1, 2, 2)\n",
    "plt.scatter(fa.loadings_[:, 0], fa.loadings_[:, 1], c='blue')\n",
    "plt.axhline(0, color='gray', linestyle='--')\n",
    "plt.axvline(0, color='gray', linestyle='--')\n",
    "plt.title(\"After Varimax Rotation\")\n",
    "plt.xlabel(\"Factor 1\")\n",
    "plt.ylabel(\"Factor 2\")\n",
    "\n",
    "plt.tight_layout(w_pad=5.0, h_pad=2.0)\n",
    "plt.show()"
   ]
  },
  {
   "cell_type": "markdown",
   "id": "bc056431",
   "metadata": {},
   "source": [
    "Factor 1: 1,2,8  AR_SCORE, ER_SCORE, EO_SCORE\n",
    "\n",
    "Factor 2: 5,6  IF_SCORE, IS_SCORE\n",
    "\n",
    "Factor 3: 3  FS_SCORE\n",
    "\n",
    "Factor 4: 4,7,9  CPF_SCORE, IRN_SCORE , S_SCORE"
   ]
  },
  {
   "cell_type": "code",
   "execution_count": 12,
   "id": "1eec7645",
   "metadata": {},
   "outputs": [
    {
     "name": "stdout",
     "output_type": "stream",
     "text": [
      "Factor1: 31.16% culmulative variance explained\n",
      "Factor2: 50.90% culmulative variance explained\n",
      "Factor3: 62.30% culmulative variance explained\n",
      "Factor4: 85.38% culmulative variance explained\n"
     ]
    }
   ],
   "source": [
    "cum_explained_variance_ratio = fa.get_factor_variance()\n",
    "for i, var in enumerate(cum_explained_variance_ratio[2], start=1):\n",
    "    print(f\"Factor{i}: {var * 100:.2f}% culmulative variance explained\")"
   ]
  },
  {
   "cell_type": "code",
   "execution_count": 13,
   "id": "10ce1d0c",
   "metadata": {},
   "outputs": [
    {
     "data": {
      "text/plain": [
       "array([0.90537734, 0.8790024 , 0.99924572, 0.75698226, 0.8383639 ,\n",
       "       0.85505594, 0.79456425, 0.84751226, 0.80767629])"
      ]
     },
     "execution_count": 13,
     "metadata": {},
     "output_type": "execute_result"
    }
   ],
   "source": [
    "fa.get_communalities()"
   ]
  },
  {
   "cell_type": "markdown",
   "id": "e657a3a6",
   "metadata": {},
   "source": [
    "### Calculate FA_Score"
   ]
  },
  {
   "cell_type": "code",
   "execution_count": 21,
   "id": "44158efb",
   "metadata": {},
   "outputs": [
    {
     "data": {
      "text/html": [
       "<div>\n",
       "<style scoped>\n",
       "    .dataframe tbody tr th:only-of-type {\n",
       "        vertical-align: middle;\n",
       "    }\n",
       "\n",
       "    .dataframe tbody tr th {\n",
       "        vertical-align: top;\n",
       "    }\n",
       "\n",
       "    .dataframe thead th {\n",
       "        text-align: right;\n",
       "    }\n",
       "</style>\n",
       "<table border=\"1\" class=\"dataframe\">\n",
       "  <thead>\n",
       "    <tr style=\"text-align: right;\">\n",
       "      <th></th>\n",
       "      <th>FA_1</th>\n",
       "      <th>FA_2</th>\n",
       "      <th>FA_3</th>\n",
       "      <th>FA_4</th>\n",
       "    </tr>\n",
       "  </thead>\n",
       "  <tbody>\n",
       "    <tr>\n",
       "      <th>0</th>\n",
       "      <td>0.750823</td>\n",
       "      <td>0.656702</td>\n",
       "      <td>0.761646</td>\n",
       "      <td>0.662480</td>\n",
       "    </tr>\n",
       "    <tr>\n",
       "      <th>1</th>\n",
       "      <td>0.754606</td>\n",
       "      <td>0.546295</td>\n",
       "      <td>0.764563</td>\n",
       "      <td>0.717952</td>\n",
       "    </tr>\n",
       "    <tr>\n",
       "      <th>2</th>\n",
       "      <td>0.755414</td>\n",
       "      <td>0.546932</td>\n",
       "      <td>0.751354</td>\n",
       "      <td>0.717664</td>\n",
       "    </tr>\n",
       "    <tr>\n",
       "      <th>3</th>\n",
       "      <td>0.604528</td>\n",
       "      <td>0.641283</td>\n",
       "      <td>0.817483</td>\n",
       "      <td>0.649147</td>\n",
       "    </tr>\n",
       "    <tr>\n",
       "      <th>4</th>\n",
       "      <td>0.779941</td>\n",
       "      <td>0.662119</td>\n",
       "      <td>0.757020</td>\n",
       "      <td>0.590281</td>\n",
       "    </tr>\n",
       "    <tr>\n",
       "      <th>...</th>\n",
       "      <td>...</td>\n",
       "      <td>...</td>\n",
       "      <td>...</td>\n",
       "      <td>...</td>\n",
       "    </tr>\n",
       "    <tr>\n",
       "      <th>8962</th>\n",
       "      <td>0.314140</td>\n",
       "      <td>0.303999</td>\n",
       "      <td>0.225657</td>\n",
       "      <td>0.439342</td>\n",
       "    </tr>\n",
       "    <tr>\n",
       "      <th>8963</th>\n",
       "      <td>0.290791</td>\n",
       "      <td>0.362183</td>\n",
       "      <td>0.402158</td>\n",
       "      <td>0.323735</td>\n",
       "    </tr>\n",
       "    <tr>\n",
       "      <th>8964</th>\n",
       "      <td>0.294171</td>\n",
       "      <td>0.244545</td>\n",
       "      <td>0.244993</td>\n",
       "      <td>0.474353</td>\n",
       "    </tr>\n",
       "    <tr>\n",
       "      <th>8965</th>\n",
       "      <td>0.257573</td>\n",
       "      <td>0.237950</td>\n",
       "      <td>0.537399</td>\n",
       "      <td>0.404727</td>\n",
       "    </tr>\n",
       "    <tr>\n",
       "      <th>8966</th>\n",
       "      <td>0.319900</td>\n",
       "      <td>0.333564</td>\n",
       "      <td>0.348698</td>\n",
       "      <td>0.278016</td>\n",
       "    </tr>\n",
       "  </tbody>\n",
       "</table>\n",
       "<p>8967 rows × 4 columns</p>\n",
       "</div>"
      ],
      "text/plain": [
       "          FA_1      FA_2      FA_3      FA_4\n",
       "0     0.750823  0.656702  0.761646  0.662480\n",
       "1     0.754606  0.546295  0.764563  0.717952\n",
       "2     0.755414  0.546932  0.751354  0.717664\n",
       "3     0.604528  0.641283  0.817483  0.649147\n",
       "4     0.779941  0.662119  0.757020  0.590281\n",
       "...        ...       ...       ...       ...\n",
       "8962  0.314140  0.303999  0.225657  0.439342\n",
       "8963  0.290791  0.362183  0.402158  0.323735\n",
       "8964  0.294171  0.244545  0.244993  0.474353\n",
       "8965  0.257573  0.237950  0.537399  0.404727\n",
       "8966  0.319900  0.333564  0.348698  0.278016\n",
       "\n",
       "[8967 rows x 4 columns]"
      ]
     },
     "execution_count": 21,
     "metadata": {},
     "output_type": "execute_result"
    }
   ],
   "source": [
    "FA_Score = fa.fit_transform(numeric_data_standardized)\n",
    "FA_Score = pd.DataFrame(FA_Score, columns=['FA_1', 'FA_2','FA_3','FA_4'])\n",
    "FA_Score_standardized = (FA_Score - FA_Score.min()) / (FA_Score.max() - FA_Score.min())\n",
    "FA_Score_standardized"
   ]
  },
  {
   "cell_type": "markdown",
   "id": "4d8a50ec",
   "metadata": {},
   "source": [
    "### Calculate PCA_Score"
   ]
  },
  {
   "cell_type": "code",
   "execution_count": 15,
   "id": "e094a32d",
   "metadata": {},
   "outputs": [],
   "source": [
    "col_factor1 = ['AR_SCORE', 'ER_SCORE', 'EO_SCORE']\n",
    "col_factor2 = ['IF_SCORE', 'IS_SCORE']\n",
    "col_factor3 = ['FS_SCORE']\n",
    "col_factor4 = ['CPF_SCORE', 'IRN_SCORE', 'S_SCORE']\n",
    "factor1 = numeric_data_standardized[col_factor1]\n",
    "factor2 = numeric_data_standardized[col_factor2]\n",
    "factor3 = numeric_data_standardized[col_factor3]\n",
    "factor4 = numeric_data_standardized[col_factor4]"
   ]
  },
  {
   "cell_type": "code",
   "execution_count": 16,
   "id": "566c0f01",
   "metadata": {},
   "outputs": [],
   "source": [
    "# PCA for each factor\n",
    "factor_num = loadings.shape[1]\n",
    "explained_variance_ratio = np.zeros(factor_num)\n",
    "\n",
    "pca = PCA(n_components = 1)\n",
    "pca_scores1 = pca.fit_transform(factor1)\n",
    "explained_variance_ratio[0] = pca.explained_variance_ratio_[0]\n",
    "pca_scores2 = pca.fit_transform(factor2)\n",
    "explained_variance_ratio[1] = pca.explained_variance_ratio_[0]\n",
    "pca_scores3 = pca.fit_transform(factor3)\n",
    "explained_variance_ratio[2] = pca.explained_variance_ratio_[0]\n",
    "pca_scores4 = pca.fit_transform(factor4)\n",
    "explained_variance_ratio[3] = pca.explained_variance_ratio_[0]"
   ]
  },
  {
   "cell_type": "code",
   "execution_count": 17,
   "id": "31cc24d7",
   "metadata": {},
   "outputs": [
    {
     "name": "stdout",
     "output_type": "stream",
     "text": [
      "Factor 1: 87.57% variance explained\n",
      "Factor 2: 84.21% variance explained\n",
      "Factor 3: 100.00% variance explained\n",
      "Factor 4: 76.16% variance explained\n"
     ]
    }
   ],
   "source": [
    "for i, var in enumerate(explained_variance_ratio, start=1):\n",
    "    print(f\"Factor {i}: {var * 100:.2f}% variance explained\")"
   ]
  },
  {
   "cell_type": "code",
   "execution_count": 18,
   "id": "9b551ce0",
   "metadata": {},
   "outputs": [
    {
     "data": {
      "text/html": [
       "<div>\n",
       "<style scoped>\n",
       "    .dataframe tbody tr th:only-of-type {\n",
       "        vertical-align: middle;\n",
       "    }\n",
       "\n",
       "    .dataframe tbody tr th {\n",
       "        vertical-align: top;\n",
       "    }\n",
       "\n",
       "    .dataframe thead th {\n",
       "        text-align: right;\n",
       "    }\n",
       "</style>\n",
       "<table border=\"1\" class=\"dataframe\">\n",
       "  <thead>\n",
       "    <tr style=\"text-align: right;\">\n",
       "      <th></th>\n",
       "      <th>pca_1</th>\n",
       "      <th>pca_2</th>\n",
       "      <th>pca_3</th>\n",
       "      <th>pca_4</th>\n",
       "    </tr>\n",
       "  </thead>\n",
       "  <tbody>\n",
       "    <tr>\n",
       "      <th>0</th>\n",
       "      <td>0.994327</td>\n",
       "      <td>0.979290</td>\n",
       "      <td>1.000000</td>\n",
       "      <td>0.938517</td>\n",
       "    </tr>\n",
       "    <tr>\n",
       "      <th>1</th>\n",
       "      <td>0.997998</td>\n",
       "      <td>0.853110</td>\n",
       "      <td>1.000000</td>\n",
       "      <td>0.974591</td>\n",
       "    </tr>\n",
       "    <tr>\n",
       "      <th>2</th>\n",
       "      <td>0.996237</td>\n",
       "      <td>0.851520</td>\n",
       "      <td>0.982811</td>\n",
       "      <td>0.976295</td>\n",
       "    </tr>\n",
       "    <tr>\n",
       "      <th>3</th>\n",
       "      <td>0.808357</td>\n",
       "      <td>0.910998</td>\n",
       "      <td>1.000000</td>\n",
       "      <td>0.779370</td>\n",
       "    </tr>\n",
       "    <tr>\n",
       "      <th>4</th>\n",
       "      <td>0.997070</td>\n",
       "      <td>0.975318</td>\n",
       "      <td>1.000000</td>\n",
       "      <td>0.876633</td>\n",
       "    </tr>\n",
       "  </tbody>\n",
       "</table>\n",
       "</div>"
      ],
      "text/plain": [
       "      pca_1     pca_2     pca_3     pca_4\n",
       "0  0.994327  0.979290  1.000000  0.938517\n",
       "1  0.997998  0.853110  1.000000  0.974591\n",
       "2  0.996237  0.851520  0.982811  0.976295\n",
       "3  0.808357  0.910998  1.000000  0.779370\n",
       "4  0.997070  0.975318  1.000000  0.876633"
      ]
     },
     "execution_count": 18,
     "metadata": {},
     "output_type": "execute_result"
    }
   ],
   "source": [
    "PCA_Score = np.column_stack((pca_scores1, pca_scores2, pca_scores3, pca_scores4))\n",
    "PCA_Score = pd.DataFrame(PCA_Score, columns=['pca_1', 'pca_2','pca_3','pca_4'])\n",
    "PCA_Score_standardized = (PCA_Score - PCA_Score.min()) / (PCA_Score.max() - PCA_Score.min())\n",
    "PCA_Score_standardized.head()"
   ]
  },
  {
   "cell_type": "code",
   "execution_count": 20,
   "id": "337c9ffa",
   "metadata": {},
   "outputs": [
    {
     "name": "stderr",
     "output_type": "stream",
     "text": [
      "<>:2: SyntaxWarning: invalid escape sequence '\\m'\n",
      "<>:2: SyntaxWarning: invalid escape sequence '\\m'\n",
      "C:\\Users\\zxy\\AppData\\Local\\Temp\\ipykernel_19112\\3245975041.py:2: SyntaxWarning: invalid escape sequence '\\m'\n",
      "  model_score.to_csv('datasets\\model_score_qs.csv',index = False)\n"
     ]
    },
    {
     "data": {
      "text/html": [
       "<div>\n",
       "<style scoped>\n",
       "    .dataframe tbody tr th:only-of-type {\n",
       "        vertical-align: middle;\n",
       "    }\n",
       "\n",
       "    .dataframe tbody tr th {\n",
       "        vertical-align: top;\n",
       "    }\n",
       "\n",
       "    .dataframe thead th {\n",
       "        text-align: right;\n",
       "    }\n",
       "</style>\n",
       "<table border=\"1\" class=\"dataframe\">\n",
       "  <thead>\n",
       "    <tr style=\"text-align: right;\">\n",
       "      <th></th>\n",
       "      <th>Institution Name</th>\n",
       "      <th>Country</th>\n",
       "      <th>Year</th>\n",
       "      <th>FA_1</th>\n",
       "      <th>FA_2</th>\n",
       "      <th>FA_3</th>\n",
       "      <th>FA_4</th>\n",
       "      <th>pca_1</th>\n",
       "      <th>pca_2</th>\n",
       "      <th>pca_3</th>\n",
       "      <th>pca_4</th>\n",
       "    </tr>\n",
       "  </thead>\n",
       "  <tbody>\n",
       "    <tr>\n",
       "      <th>0</th>\n",
       "      <td>MASSACHUSETTS INSTITUTE OF TECHNOLOGY (MIT)</td>\n",
       "      <td>United States</td>\n",
       "      <td>2018</td>\n",
       "      <td>0.750823</td>\n",
       "      <td>0.656702</td>\n",
       "      <td>0.761646</td>\n",
       "      <td>0.662480</td>\n",
       "      <td>0.994327</td>\n",
       "      <td>0.979290</td>\n",
       "      <td>1.000000</td>\n",
       "      <td>0.938517</td>\n",
       "    </tr>\n",
       "    <tr>\n",
       "      <th>1</th>\n",
       "      <td>STANFORD UNIVERSITY</td>\n",
       "      <td>United States</td>\n",
       "      <td>2018</td>\n",
       "      <td>0.754606</td>\n",
       "      <td>0.546295</td>\n",
       "      <td>0.764563</td>\n",
       "      <td>0.717952</td>\n",
       "      <td>0.997998</td>\n",
       "      <td>0.853110</td>\n",
       "      <td>1.000000</td>\n",
       "      <td>0.974591</td>\n",
       "    </tr>\n",
       "    <tr>\n",
       "      <th>2</th>\n",
       "      <td>HARVARD UNIVERSITY</td>\n",
       "      <td>United States</td>\n",
       "      <td>2018</td>\n",
       "      <td>0.755414</td>\n",
       "      <td>0.546932</td>\n",
       "      <td>0.751354</td>\n",
       "      <td>0.717664</td>\n",
       "      <td>0.996237</td>\n",
       "      <td>0.851520</td>\n",
       "      <td>0.982811</td>\n",
       "      <td>0.976295</td>\n",
       "    </tr>\n",
       "    <tr>\n",
       "      <th>3</th>\n",
       "      <td>CALIFORNIA INSTITUTE OF TECHNOLOGY (CALTECH)</td>\n",
       "      <td>United States</td>\n",
       "      <td>2018</td>\n",
       "      <td>0.604528</td>\n",
       "      <td>0.641283</td>\n",
       "      <td>0.817483</td>\n",
       "      <td>0.649147</td>\n",
       "      <td>0.808357</td>\n",
       "      <td>0.910998</td>\n",
       "      <td>1.000000</td>\n",
       "      <td>0.779370</td>\n",
       "    </tr>\n",
       "    <tr>\n",
       "      <th>4</th>\n",
       "      <td>UNIVERSITY OF CAMBRIDGE</td>\n",
       "      <td>United Kingdom</td>\n",
       "      <td>2018</td>\n",
       "      <td>0.779941</td>\n",
       "      <td>0.662119</td>\n",
       "      <td>0.757020</td>\n",
       "      <td>0.590281</td>\n",
       "      <td>0.997070</td>\n",
       "      <td>0.975318</td>\n",
       "      <td>1.000000</td>\n",
       "      <td>0.876633</td>\n",
       "    </tr>\n",
       "  </tbody>\n",
       "</table>\n",
       "</div>"
      ],
      "text/plain": [
       "                               Institution Name         Country  Year  \\\n",
       "0  MASSACHUSETTS INSTITUTE OF TECHNOLOGY (MIT)    United States  2018   \n",
       "1                           STANFORD UNIVERSITY   United States  2018   \n",
       "2                            HARVARD UNIVERSITY   United States  2018   \n",
       "3  CALIFORNIA INSTITUTE OF TECHNOLOGY (CALTECH)   United States  2018   \n",
       "4                       UNIVERSITY OF CAMBRIDGE  United Kingdom  2018   \n",
       "\n",
       "       FA_1      FA_2      FA_3      FA_4     pca_1     pca_2     pca_3  \\\n",
       "0  0.750823  0.656702  0.761646  0.662480  0.994327  0.979290  1.000000   \n",
       "1  0.754606  0.546295  0.764563  0.717952  0.997998  0.853110  1.000000   \n",
       "2  0.755414  0.546932  0.751354  0.717664  0.996237  0.851520  0.982811   \n",
       "3  0.604528  0.641283  0.817483  0.649147  0.808357  0.910998  1.000000   \n",
       "4  0.779941  0.662119  0.757020  0.590281  0.997070  0.975318  1.000000   \n",
       "\n",
       "      pca_4  \n",
       "0  0.938517  \n",
       "1  0.974591  \n",
       "2  0.976295  \n",
       "3  0.779370  \n",
       "4  0.876633  "
      ]
     },
     "execution_count": 20,
     "metadata": {},
     "output_type": "execute_result"
    }
   ],
   "source": [
    "model_score = pd.concat([data[['Institution Name','Country','Year']],FA_Score_standardized, PCA_Score_standardized],axis = 1)\n",
    "model_score.to_csv('datasets\\model_score_qs.csv',index = False)\n",
    "model_score.head()"
   ]
  },
  {
   "cell_type": "code",
   "execution_count": null,
   "id": "31b9aa71",
   "metadata": {},
   "outputs": [],
   "source": []
  }
 ],
 "metadata": {
  "kernelspec": {
   "display_name": "Python D Drive",
   "language": "python",
   "name": "python_d"
  },
  "language_info": {
   "codemirror_mode": {
    "name": "ipython",
    "version": 3
   },
   "file_extension": ".py",
   "mimetype": "text/x-python",
   "name": "python",
   "nbconvert_exporter": "python",
   "pygments_lexer": "ipython3",
   "version": "3.12.4"
  }
 },
 "nbformat": 4,
 "nbformat_minor": 5
}
