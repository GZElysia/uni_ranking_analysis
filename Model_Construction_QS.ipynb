{
 "cells": [
  {
   "cell_type": "code",
   "execution_count": 1,
   "id": "2a69cb53",
   "metadata": {},
   "outputs": [],
   "source": [
    "import numpy as np\n",
    "import pandas as pd\n",
    "from sklearn.decomposition import PCA\n",
    "import matplotlib.pyplot as plt\n",
    "import scipy.stats as stats\n",
    "from sklearn.preprocessing import StandardScaler\n",
    "from factor_analyzer.factor_analyzer import calculate_kmo\n",
    "from factor_analyzer.factor_analyzer import calculate_bartlett_sphericity\n",
    "from factor_analyzer import FactorAnalyzer\n",
    "from sklearn.decomposition import FactorAnalysis\n",
    "\n",
    "import matplotlib.pyplot as plt\n",
    "import seaborn as sns"
   ]
  },
  {
   "cell_type": "code",
   "execution_count": 2,
   "id": "1793b182",
   "metadata": {},
   "outputs": [],
   "source": [
    "data = pd.read_csv(\"datasets/imputed_data_QS.csv\")\n",
    "numeric_data = data.drop(columns=['Rank', 'Institution Name', 'Country', 'Year','CS','CF','RI','Age','STA','Overall'])\n",
    "numeric_data_standardized = (numeric_data - numeric_data.mean()) / numeric_data.std()"
   ]
  },
  {
   "cell_type": "code",
   "execution_count": 3,
   "id": "e78f3086",
   "metadata": {},
   "outputs": [
    {
     "data": {
      "text/html": [
       "<div>\n",
       "<style scoped>\n",
       "    .dataframe tbody tr th:only-of-type {\n",
       "        vertical-align: middle;\n",
       "    }\n",
       "\n",
       "    .dataframe tbody tr th {\n",
       "        vertical-align: top;\n",
       "    }\n",
       "\n",
       "    .dataframe thead th {\n",
       "        text-align: right;\n",
       "    }\n",
       "</style>\n",
       "<table border=\"1\" class=\"dataframe\">\n",
       "  <thead>\n",
       "    <tr style=\"text-align: right;\">\n",
       "      <th></th>\n",
       "      <th>AR_SCORE</th>\n",
       "      <th>ER_SCORE</th>\n",
       "      <th>FS_SCORE</th>\n",
       "      <th>CPF_SCORE</th>\n",
       "      <th>IF_SCORE</th>\n",
       "      <th>IS_SCORE</th>\n",
       "      <th>IRN_SCORE</th>\n",
       "      <th>EO_SCORE</th>\n",
       "      <th>S_SCORE</th>\n",
       "    </tr>\n",
       "  </thead>\n",
       "  <tbody>\n",
       "    <tr>\n",
       "      <th>0</th>\n",
       "      <td>3.108493</td>\n",
       "      <td>2.943028</td>\n",
       "      <td>2.318724</td>\n",
       "      <td>2.539520</td>\n",
       "      <td>1.904748</td>\n",
       "      <td>2.074957</td>\n",
       "      <td>1.353533</td>\n",
       "      <td>3.099285</td>\n",
       "      <td>1.934759</td>\n",
       "    </tr>\n",
       "    <tr>\n",
       "      <th>1</th>\n",
       "      <td>3.108493</td>\n",
       "      <td>2.943028</td>\n",
       "      <td>2.318724</td>\n",
       "      <td>2.521606</td>\n",
       "      <td>1.893150</td>\n",
       "      <td>1.331733</td>\n",
       "      <td>1.705885</td>\n",
       "      <td>3.133533</td>\n",
       "      <td>1.969930</td>\n",
       "    </tr>\n",
       "    <tr>\n",
       "      <th>2</th>\n",
       "      <td>3.108493</td>\n",
       "      <td>2.943028</td>\n",
       "      <td>2.258799</td>\n",
       "      <td>2.539520</td>\n",
       "      <td>1.803262</td>\n",
       "      <td>1.411137</td>\n",
       "      <td>1.701540</td>\n",
       "      <td>3.141402</td>\n",
       "      <td>1.956716</td>\n",
       "    </tr>\n",
       "    <tr>\n",
       "      <th>3</th>\n",
       "      <td>3.087647</td>\n",
       "      <td>2.362722</td>\n",
       "      <td>2.318724</td>\n",
       "      <td>2.543103</td>\n",
       "      <td>1.713374</td>\n",
       "      <td>1.855801</td>\n",
       "      <td>0.702925</td>\n",
       "      <td>1.847316</td>\n",
       "      <td>1.242020</td>\n",
       "    </tr>\n",
       "    <tr>\n",
       "      <th>4</th>\n",
       "      <td>3.108493</td>\n",
       "      <td>2.943028</td>\n",
       "      <td>2.318724</td>\n",
       "      <td>1.765606</td>\n",
       "      <td>1.829358</td>\n",
       "      <td>2.125775</td>\n",
       "      <td>1.741756</td>\n",
       "      <td>3.127000</td>\n",
       "      <td>1.706911</td>\n",
       "    </tr>\n",
       "  </tbody>\n",
       "</table>\n",
       "</div>"
      ],
      "text/plain": [
       "   AR_SCORE  ER_SCORE  FS_SCORE  CPF_SCORE  IF_SCORE  IS_SCORE  IRN_SCORE  \\\n",
       "0  3.108493  2.943028  2.318724   2.539520  1.904748  2.074957   1.353533   \n",
       "1  3.108493  2.943028  2.318724   2.521606  1.893150  1.331733   1.705885   \n",
       "2  3.108493  2.943028  2.258799   2.539520  1.803262  1.411137   1.701540   \n",
       "3  3.087647  2.362722  2.318724   2.543103  1.713374  1.855801   0.702925   \n",
       "4  3.108493  2.943028  2.318724   1.765606  1.829358  2.125775   1.741756   \n",
       "\n",
       "   EO_SCORE   S_SCORE  \n",
       "0  3.099285  1.934759  \n",
       "1  3.133533  1.969930  \n",
       "2  3.141402  1.956716  \n",
       "3  1.847316  1.242020  \n",
       "4  3.127000  1.706911  "
      ]
     },
     "execution_count": 3,
     "metadata": {},
     "output_type": "execute_result"
    }
   ],
   "source": [
    "numeric_data_standardized.head()"
   ]
  },
  {
   "cell_type": "markdown",
   "id": "031f9904",
   "metadata": {},
   "source": [
    "### Implementing PCA"
   ]
  },
  {
   "cell_type": "code",
   "execution_count": 4,
   "id": "68cb3d7c",
   "metadata": {
    "scrolled": true
   },
   "outputs": [
    {
     "name": "stdout",
     "output_type": "stream",
     "text": [
      "PC1: 54.70% variance explained\n",
      "PC2: 12.82% variance explained\n",
      "PC3: 11.10% variance explained\n",
      "PC4: 7.03% variance explained\n",
      "PC5: 5.30% variance explained\n",
      "PC6: 3.28% variance explained\n",
      "PC7: 2.47% variance explained\n",
      "PC8: 2.00% variance explained\n",
      "PC9: 1.30% variance explained\n"
     ]
    }
   ],
   "source": [
    "pca = PCA()\n",
    "pca.fit(numeric_data_standardized)\n",
    "\n",
    "explained_variance_ratio = pca.explained_variance_ratio_\n",
    "eigenvalues = pca.explained_variance_\n",
    "\n",
    "for i, var in enumerate(explained_variance_ratio, start=1):\n",
    "    print(f\"PC{i}: {var * 100:.2f}% variance explained\")"
   ]
  },
  {
   "cell_type": "markdown",
   "id": "2f7644a5",
   "metadata": {},
   "source": [
    "### Factor Analysis"
   ]
  },
  {
   "cell_type": "code",
   "execution_count": 5,
   "id": "02a65ee6",
   "metadata": {},
   "outputs": [
    {
     "data": {
      "text/plain": [
       "0.8592016158894967"
      ]
     },
     "execution_count": 5,
     "metadata": {},
     "output_type": "execute_result"
    }
   ],
   "source": [
    "# KMO Test\n",
    "scaler = StandardScaler()\n",
    "df_scaled = scaler.fit_transform(numeric_data)\n",
    "\n",
    "kmo_all,kmo_model=calculate_kmo(df_scaled)\n",
    "kmo_model"
   ]
  },
  {
   "cell_type": "code",
   "execution_count": 6,
   "id": "23a09eae",
   "metadata": {},
   "outputs": [
    {
     "name": "stdout",
     "output_type": "stream",
     "text": [
      "Bartlett's test of result:\n",
      "statistic = 57734.7098\n",
      "0.0 p-value\n"
     ]
    }
   ],
   "source": [
    "# Bartlett’s Test of Sphericity\n",
    "chi2_val, p_val = calculate_bartlett_sphericity(numeric_data)\n",
    "\n",
    "print(f\"Bartlett's test of result:\")\n",
    "print(f\"statistic = {chi2_val:.4f}\")\n",
    "print(p_val,\"p-value\")"
   ]
  },
  {
   "cell_type": "code",
   "execution_count": 7,
   "id": "ce58c741",
   "metadata": {},
   "outputs": [
    {
     "data": {
      "text/plain": [
       "array([4.92318936, 1.15418598, 0.9987571 , 0.63263684, 0.47656703,\n",
       "       0.29550325, 0.22199644, 0.18021209, 0.1169519 ])"
      ]
     },
     "execution_count": 7,
     "metadata": {},
     "output_type": "execute_result"
    }
   ],
   "source": [
    "from factor_analyzer import FactorAnalyzer\n",
    "fa = FactorAnalyzer()\n",
    "fa.fit(numeric_data_standardized)\n",
    "eigen_values, vectors = fa.get_eigenvalues()\n",
    "eigen_values"
   ]
  },
  {
   "cell_type": "code",
   "execution_count": 8,
   "id": "e5f11001",
   "metadata": {},
   "outputs": [
    {
     "data": {
      "image/png": "[encoded data removed]",
      "text/plain": [
       "<Figure size 640x480 with 1 Axes>"
      ]
     },
     "metadata": {},
     "output_type": "display_data"
    }
   ],
   "source": [
    "plt.scatter(range(1,df_scaled.shape[1]+1),eigen_values)\n",
    "plt.plot(range(1,df_scaled.shape[1]+1),eigen_values)\n",
    "plt.title('Scree Plot')\n",
    "plt.xlabel('Factors')\n",
    "plt.ylabel('Eigenvalue')\n",
    "plt.show()"
   ]
  },
  {
   "cell_type": "code",
   "execution_count": 9,
   "id": "181dec94",
   "metadata": {
    "scrolled": true
   },
   "outputs": [
    {
     "name": "stdout",
     "output_type": "stream",
     "text": [
      "Loading matrix：\n",
      "             Factor1   Factor2   Factor3   Factor4\n",
      "AR_SCORE   0.819024  0.157225  0.162770  0.426118\n",
      "ER_SCORE   0.898220  0.180730  0.119429  0.189647\n",
      "FS_SCORE   0.195863  0.096632  0.974091  0.036301\n",
      "CPF_SCORE  0.176879  0.195156 -0.012006  0.817817\n",
      "IF_SCORE   0.171975  0.867040  0.027090  0.259892\n",
      "IS_SCORE   0.186200  0.886917  0.109796  0.165268\n",
      "IRN_SCORE  0.354303  0.182042  0.056601  0.804356\n",
      "EO_SCORE   0.847834  0.177893  0.118084  0.285218\n",
      "S_SCORE    0.511233  0.288090  0.096212  0.678798\n"
     ]
    }
   ],
   "source": [
    "fa = FactorAnalyzer(n_factors=4, rotation='varimax', method='principal')\n",
    "fa.fit(numeric_data_standardized)\n",
    "\n",
    "fa1 = FactorAnalyzer(n_factors=4, rotation=None, method='principal')\n",
    "fa1.fit(numeric_data_standardized)\n",
    "\n",
    "loadings = pd.DataFrame(\n",
    "    fa.loadings_,\n",
    "    index = numeric_data_standardized.columns,\n",
    "    columns=['Factor1', 'Factor2','Factor3','Factor4']\n",
    ")\n",
    "print(\"Loading matrix：\\n\", loadings)"
   ]
  },
  {
   "cell_type": "code",
   "execution_count": 10,
   "id": "682d875f",
   "metadata": {},
   "outputs": [
    {
     "data": {
      "image/png": "[encoded data removed]",
      "text/plain": [
       "<Figure size 640x480 with 2 Axes>"
      ]
     },
     "metadata": {},
     "output_type": "display_data"
    }
   ],
   "source": [
    "# Plot the difference of using rotation\n",
    "plt.subplot(1, 2, 1)\n",
    "plt.scatter(fa1.loadings_[:, 0], fa1.loadings_[:, 1], c='blue')\n",
    "plt.axhline(0, color='gray', linestyle='--')\n",
    "plt.axvline(0, color='gray', linestyle='--')\n",
    "plt.title(\"Before Varimax Rotation\")\n",
    "plt.xlabel(\"Factor 1\")\n",
    "plt.ylabel(\"Factor 2\")\n",
    "\n",
    "plt.subplot(1, 2, 2)\n",
    "plt.scatter(fa.loadings_[:, 0], fa.loadings_[:, 1], c='blue')\n",
    "plt.axhline(0, color='gray', linestyle='--')\n",
    "plt.axvline(0, color='gray', linestyle='--')\n",
    "plt.title(\"After Varimax Rotation\")\n",
    "plt.xlabel(\"Factor 1\")\n",
    "plt.ylabel(\"Factor 2\")\n",
    "\n",
    "plt.tight_layout(w_pad=5.0, h_pad=2.0)\n",
    "plt.show()"
   ]
  },
  {
   "cell_type": "markdown",
   "id": "bc056431",
   "metadata": {},
   "source": [
    "Factor 1: 1,2,8  AR_SCORE, ER_SCORE, EO_SCORE\n",
    "\n",
    "Factor 2: 5,6  IF_SCORE, IS_SCORE\n",
    "\n",
    "Factor 3: 3  FS_SCORE\n",
    "\n",
    "Factor 4: 4,7,9  CPF_SCORE, IRN_SCORE , S_SCORE"
   ]
  },
  {
   "cell_type": "code",
   "execution_count": 11,
   "id": "1eec7645",
   "metadata": {},
   "outputs": [
    {
     "name": "stdout",
     "output_type": "stream",
     "text": [
      "Factor1: 30.19% culmulative variance explained\n",
      "Factor2: 50.09% culmulative variance explained\n",
      "Factor3: 61.52% culmulative variance explained\n",
      "Factor4: 85.65% culmulative variance explained\n"
     ]
    }
   ],
   "source": [
    "cum_explained_variance_ratio = fa.get_factor_variance()\n",
    "for i, var in enumerate(cum_explained_variance_ratio[2], start=1):\n",
    "    print(f\"Factor{i}: {var * 100:.2f}% culmulative variance explained\")"
   ]
  },
  {
   "cell_type": "code",
   "execution_count": 12,
   "id": "10ce1d0c",
   "metadata": {},
   "outputs": [
    {
     "data": {
      "text/plain": [
       "array([0.90359026, 0.88969218, 0.99787159, 0.73834137, 0.84961049,\n",
       "       0.86066066, 0.80886221, 0.84576144, 0.81437909])"
      ]
     },
     "execution_count": 12,
     "metadata": {},
     "output_type": "execute_result"
    }
   ],
   "source": [
    "fa.get_communalities()"
   ]
  },
  {
   "cell_type": "markdown",
   "id": "e657a3a6",
   "metadata": {},
   "source": [
    "### Calculate FA_Score"
   ]
  },
  {
   "cell_type": "code",
   "execution_count": 22,
   "id": "44158efb",
   "metadata": {},
   "outputs": [
    {
     "data": {
      "text/html": [
       "<div>\n",
       "<style scoped>\n",
       "    .dataframe tbody tr th:only-of-type {\n",
       "        vertical-align: middle;\n",
       "    }\n",
       "\n",
       "    .dataframe tbody tr th {\n",
       "        vertical-align: top;\n",
       "    }\n",
       "\n",
       "    .dataframe thead th {\n",
       "        text-align: right;\n",
       "    }\n",
       "</style>\n",
       "<table border=\"1\" class=\"dataframe\">\n",
       "  <thead>\n",
       "    <tr style=\"text-align: right;\">\n",
       "      <th></th>\n",
       "      <th>FA_1</th>\n",
       "      <th>FA_2</th>\n",
       "      <th>FA_3</th>\n",
       "      <th>FA_4</th>\n",
       "    </tr>\n",
       "  </thead>\n",
       "  <tbody>\n",
       "    <tr>\n",
       "      <th>0</th>\n",
       "      <td>0.757446</td>\n",
       "      <td>0.652191</td>\n",
       "      <td>0.756823</td>\n",
       "      <td>0.668983</td>\n",
       "    </tr>\n",
       "    <tr>\n",
       "      <th>1</th>\n",
       "      <td>0.759865</td>\n",
       "      <td>0.543975</td>\n",
       "      <td>0.759426</td>\n",
       "      <td>0.723164</td>\n",
       "    </tr>\n",
       "    <tr>\n",
       "      <th>2</th>\n",
       "      <td>0.761718</td>\n",
       "      <td>0.543666</td>\n",
       "      <td>0.746348</td>\n",
       "      <td>0.722349</td>\n",
       "    </tr>\n",
       "    <tr>\n",
       "      <th>3</th>\n",
       "      <td>0.644430</td>\n",
       "      <td>0.634360</td>\n",
       "      <td>0.798451</td>\n",
       "      <td>0.646954</td>\n",
       "    </tr>\n",
       "    <tr>\n",
       "      <th>4</th>\n",
       "      <td>0.782375</td>\n",
       "      <td>0.655572</td>\n",
       "      <td>0.758556</td>\n",
       "      <td>0.608074</td>\n",
       "    </tr>\n",
       "  </tbody>\n",
       "</table>\n",
       "</div>"
      ],
      "text/plain": [
       "       FA_1      FA_2      FA_3      FA_4\n",
       "0  0.757446  0.652191  0.756823  0.668983\n",
       "1  0.759865  0.543975  0.759426  0.723164\n",
       "2  0.761718  0.543666  0.746348  0.722349\n",
       "3  0.644430  0.634360  0.798451  0.646954\n",
       "4  0.782375  0.655572  0.758556  0.608074"
      ]
     },
     "execution_count": 22,
     "metadata": {},
     "output_type": "execute_result"
    }
   ],
   "source": [
    "FA_Score = fa.fit_transform(numeric_data_standardized)\n",
    "FA_Score = pd.DataFrame(FA_Score, columns=['FA_1', 'FA_2','FA_3','FA_4'])\n",
    "FA_Score_standardized = (FA_Score - FA_Score.min()) / (FA_Score.max() - FA_Score.min())\n",
    "FA_Score_standardized.head()"
   ]
  },
  {
   "cell_type": "markdown",
   "id": "4d8a50ec",
   "metadata": {},
   "source": [
    "### Calculate PCA_Score"
   ]
  },
  {
   "cell_type": "code",
   "execution_count": 23,
   "id": "e094a32d",
   "metadata": {},
   "outputs": [],
   "source": [
    "col_factor1 = ['AR_SCORE', 'ER_SCORE', 'EO_SCORE']\n",
    "col_factor2 = ['IF_SCORE', 'IS_SCORE']\n",
    "col_factor3 = ['FS_SCORE']\n",
    "col_factor4 = ['CPF_SCORE', 'IRN_SCORE', 'S_SCORE']\n",
    "factor1 = numeric_data_standardized[col_factor1]\n",
    "factor2 = numeric_data_standardized[col_factor2]\n",
    "factor3 = numeric_data_standardized[col_factor3]\n",
    "factor4 = numeric_data_standardized[col_factor4]"
   ]
  },
  {
   "cell_type": "code",
   "execution_count": 24,
   "id": "566c0f01",
   "metadata": {},
   "outputs": [],
   "source": [
    "# PCA for each factor\n",
    "factor_num = loadings.shape[1]\n",
    "explained_variance_ratio = np.zeros(factor_num)\n",
    "\n",
    "pca = PCA(n_components = 1)\n",
    "pca_scores1 = pca.fit_transform(factor1)\n",
    "explained_variance_ratio[0] = pca.explained_variance_ratio_[0]\n",
    "pca_scores2 = pca.fit_transform(factor2)\n",
    "explained_variance_ratio[1] = pca.explained_variance_ratio_[0]\n",
    "pca_scores3 = pca.fit_transform(factor3)\n",
    "explained_variance_ratio[2] = pca.explained_variance_ratio_[0]\n",
    "pca_scores4 = pca.fit_transform(factor4)\n",
    "explained_variance_ratio[3] = pca.explained_variance_ratio_[0]"
   ]
  },
  {
   "cell_type": "code",
   "execution_count": 25,
   "id": "31cc24d7",
   "metadata": {},
   "outputs": [
    {
     "name": "stdout",
     "output_type": "stream",
     "text": [
      "Factor 1: 87.42% variance explained\n",
      "Factor 2: 85.17% variance explained\n",
      "Factor 3: 100.00% variance explained\n",
      "Factor 4: 76.67% variance explained\n"
     ]
    }
   ],
   "source": [
    "for i, var in enumerate(explained_variance_ratio, start=1):\n",
    "    print(f\"Factor {i}: {var * 100:.2f}% variance explained\")"
   ]
  },
  {
   "cell_type": "code",
   "execution_count": 30,
   "id": "9b551ce0",
   "metadata": {},
   "outputs": [
    {
     "data": {
      "text/html": [
       "<div>\n",
       "<style scoped>\n",
       "    .dataframe tbody tr th:only-of-type {\n",
       "        vertical-align: middle;\n",
       "    }\n",
       "\n",
       "    .dataframe tbody tr th {\n",
       "        vertical-align: top;\n",
       "    }\n",
       "\n",
       "    .dataframe thead th {\n",
       "        text-align: right;\n",
       "    }\n",
       "</style>\n",
       "<table border=\"1\" class=\"dataframe\">\n",
       "  <thead>\n",
       "    <tr style=\"text-align: right;\">\n",
       "      <th></th>\n",
       "      <th>pca_1</th>\n",
       "      <th>pca_2</th>\n",
       "      <th>pca_3</th>\n",
       "      <th>pca_4</th>\n",
       "    </tr>\n",
       "  </thead>\n",
       "  <tbody>\n",
       "    <tr>\n",
       "      <th>0</th>\n",
       "      <td>0.994436</td>\n",
       "      <td>0.979397</td>\n",
       "      <td>1.000000</td>\n",
       "      <td>0.937564</td>\n",
       "    </tr>\n",
       "    <tr>\n",
       "      <th>1</th>\n",
       "      <td>0.997196</td>\n",
       "      <td>0.853847</td>\n",
       "      <td>1.000000</td>\n",
       "      <td>0.974918</td>\n",
       "    </tr>\n",
       "    <tr>\n",
       "      <th>2</th>\n",
       "      <td>0.997830</td>\n",
       "      <td>0.852103</td>\n",
       "      <td>0.982811</td>\n",
       "      <td>0.974736</td>\n",
       "    </tr>\n",
       "    <tr>\n",
       "      <th>3</th>\n",
       "      <td>0.844276</td>\n",
       "      <td>0.911113</td>\n",
       "      <td>1.000000</td>\n",
       "      <td>0.802940</td>\n",
       "    </tr>\n",
       "    <tr>\n",
       "      <th>4</th>\n",
       "      <td>0.996669</td>\n",
       "      <td>0.975310</td>\n",
       "      <td>1.000000</td>\n",
       "      <td>0.885368</td>\n",
       "    </tr>\n",
       "  </tbody>\n",
       "</table>\n",
       "</div>"
      ],
      "text/plain": [
       "      pca_1     pca_2     pca_3     pca_4\n",
       "0  0.994436  0.979397  1.000000  0.937564\n",
       "1  0.997196  0.853847  1.000000  0.974918\n",
       "2  0.997830  0.852103  0.982811  0.974736\n",
       "3  0.844276  0.911113  1.000000  0.802940\n",
       "4  0.996669  0.975310  1.000000  0.885368"
      ]
     },
     "execution_count": 30,
     "metadata": {},
     "output_type": "execute_result"
    }
   ],
   "source": [
    "PCA_Score = np.column_stack((pca_scores1, pca_scores2, pca_scores3, pca_scores4))\n",
    "PCA_Score = pd.DataFrame(PCA_Score, columns=['pca_1', 'pca_2','pca_3','pca_4'])\n",
    "PCA_Score_standardized = (PCA_Score - PCA_Score.min()) / (PCA_Score.max() - PCA_Score.min())\n",
    "PCA_Score_standardized.head()"
   ]
  },
  {
   "cell_type": "code",
   "execution_count": 32,
   "id": "337c9ffa",
   "metadata": {},
   "outputs": [
    {
     "data": {
      "text/html": [
       "<div>\n",
       "<style scoped>\n",
       "    .dataframe tbody tr th:only-of-type {\n",
       "        vertical-align: middle;\n",
       "    }\n",
       "\n",
       "    .dataframe tbody tr th {\n",
       "        vertical-align: top;\n",
       "    }\n",
       "\n",
       "    .dataframe thead th {\n",
       "        text-align: right;\n",
       "    }\n",
       "</style>\n",
       "<table border=\"1\" class=\"dataframe\">\n",
       "  <thead>\n",
       "    <tr style=\"text-align: right;\">\n",
       "      <th></th>\n",
       "      <th>Institution Name</th>\n",
       "      <th>Country</th>\n",
       "      <th>Year</th>\n",
       "      <th>FA_1</th>\n",
       "      <th>FA_2</th>\n",
       "      <th>FA_3</th>\n",
       "      <th>FA_4</th>\n",
       "      <th>pca_1</th>\n",
       "      <th>pca_2</th>\n",
       "      <th>pca_3</th>\n",
       "      <th>pca_4</th>\n",
       "    </tr>\n",
       "  </thead>\n",
       "  <tbody>\n",
       "    <tr>\n",
       "      <th>0</th>\n",
       "      <td>MASSACHUSETTS INSTITUTE OF TECHNOLOGY (MIT)</td>\n",
       "      <td>United States</td>\n",
       "      <td>2018</td>\n",
       "      <td>0.757446</td>\n",
       "      <td>0.652191</td>\n",
       "      <td>0.756823</td>\n",
       "      <td>0.668983</td>\n",
       "      <td>0.994436</td>\n",
       "      <td>0.979397</td>\n",
       "      <td>1.000000</td>\n",
       "      <td>0.937564</td>\n",
       "    </tr>\n",
       "    <tr>\n",
       "      <th>1</th>\n",
       "      <td>STANFORD UNIVERSITY</td>\n",
       "      <td>United States</td>\n",
       "      <td>2018</td>\n",
       "      <td>0.759865</td>\n",
       "      <td>0.543975</td>\n",
       "      <td>0.759426</td>\n",
       "      <td>0.723164</td>\n",
       "      <td>0.997196</td>\n",
       "      <td>0.853847</td>\n",
       "      <td>1.000000</td>\n",
       "      <td>0.974918</td>\n",
       "    </tr>\n",
       "    <tr>\n",
       "      <th>2</th>\n",
       "      <td>HARVARD UNIVERSITY</td>\n",
       "      <td>United States</td>\n",
       "      <td>2018</td>\n",
       "      <td>0.761718</td>\n",
       "      <td>0.543666</td>\n",
       "      <td>0.746348</td>\n",
       "      <td>0.722349</td>\n",
       "      <td>0.997830</td>\n",
       "      <td>0.852103</td>\n",
       "      <td>0.982811</td>\n",
       "      <td>0.974736</td>\n",
       "    </tr>\n",
       "    <tr>\n",
       "      <th>3</th>\n",
       "      <td>CALIFORNIA INSTITUTE OF TECHNOLOGY (CALTECH)</td>\n",
       "      <td>United States</td>\n",
       "      <td>2018</td>\n",
       "      <td>0.644430</td>\n",
       "      <td>0.634360</td>\n",
       "      <td>0.798451</td>\n",
       "      <td>0.646954</td>\n",
       "      <td>0.844276</td>\n",
       "      <td>0.911113</td>\n",
       "      <td>1.000000</td>\n",
       "      <td>0.802940</td>\n",
       "    </tr>\n",
       "    <tr>\n",
       "      <th>4</th>\n",
       "      <td>UNIVERSITY OF CAMBRIDGE</td>\n",
       "      <td>United Kingdom</td>\n",
       "      <td>2018</td>\n",
       "      <td>0.782375</td>\n",
       "      <td>0.655572</td>\n",
       "      <td>0.758556</td>\n",
       "      <td>0.608074</td>\n",
       "      <td>0.996669</td>\n",
       "      <td>0.975310</td>\n",
       "      <td>1.000000</td>\n",
       "      <td>0.885368</td>\n",
       "    </tr>\n",
       "  </tbody>\n",
       "</table>\n",
       "</div>"
      ],
      "text/plain": [
       "                               Institution Name         Country  Year  \\\n",
       "0  MASSACHUSETTS INSTITUTE OF TECHNOLOGY (MIT)    United States  2018   \n",
       "1                           STANFORD UNIVERSITY   United States  2018   \n",
       "2                            HARVARD UNIVERSITY   United States  2018   \n",
       "3  CALIFORNIA INSTITUTE OF TECHNOLOGY (CALTECH)   United States  2018   \n",
       "4                       UNIVERSITY OF CAMBRIDGE  United Kingdom  2018   \n",
       "\n",
       "       FA_1      FA_2      FA_3      FA_4     pca_1     pca_2     pca_3  \\\n",
       "0  0.757446  0.652191  0.756823  0.668983  0.994436  0.979397  1.000000   \n",
       "1  0.759865  0.543975  0.759426  0.723164  0.997196  0.853847  1.000000   \n",
       "2  0.761718  0.543666  0.746348  0.722349  0.997830  0.852103  0.982811   \n",
       "3  0.644430  0.634360  0.798451  0.646954  0.844276  0.911113  1.000000   \n",
       "4  0.782375  0.655572  0.758556  0.608074  0.996669  0.975310  1.000000   \n",
       "\n",
       "      pca_4  \n",
       "0  0.937564  \n",
       "1  0.974918  \n",
       "2  0.974736  \n",
       "3  0.802940  \n",
       "4  0.885368  "
      ]
     },
     "execution_count": 32,
     "metadata": {},
     "output_type": "execute_result"
    }
   ],
   "source": [
    "model_score = pd.concat([data[['Institution Name','Country','Year']],FA_Score_standardized, PCA_Score_standardized],axis = 1)\n",
    "model_score.to_csv('datasets\\model_score.csv',index = False)\n",
    "model_score.head()"
   ]
  },
  {
   "cell_type": "code",
   "execution_count": null,
   "id": "31b9aa71",
   "metadata": {},
   "outputs": [],
   "source": []
  }
 ],
 "metadata": {
  "kernelspec": {
   "display_name": "Python 3 (ipykernel)",
   "language": "python",
   "name": "python3"
  },
  "language_info": {
   "codemirror_mode": {
    "name": "ipython",
    "version": 3
   },
   "file_extension": ".py",
   "mimetype": "text/x-python",
   "name": "python",
   "nbconvert_exporter": "python",
   "pygments_lexer": "ipython3",
   "version": "3.9.13"
  }
 },
 "nbformat": 4,
 "nbformat_minor": 5
}
