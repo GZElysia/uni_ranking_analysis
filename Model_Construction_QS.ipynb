{
 "cells": [
  {
   "cell_type": "code",
   "execution_count": 31,
   "id": "94baa695",
   "metadata": {},
   "outputs": [
    {
     "name": "stdout",
     "output_type": "stream",
     "text": [
      "Collecting adjustText\n",
      "  Downloading adjustText-1.3.0-py3-none-any.whl (13 kB)\n",
      "Requirement already satisfied: matplotlib in d:\\users\\57176\\anaconda3\\lib\\site-packages (from adjustText) (3.7.3)\n",
      "Requirement already satisfied: numpy in d:\\users\\57176\\anaconda3\\lib\\site-packages (from adjustText) (1.26.0)\n",
      "Requirement already satisfied: scipy in d:\\users\\57176\\anaconda3\\lib\\site-packages (from adjustText) (1.13.1)\n",
      "Requirement already satisfied: pyparsing>=2.3.1 in d:\\users\\57176\\anaconda3\\lib\\site-packages (from matplotlib->adjustText) (3.0.9)\n",
      "Requirement already satisfied: python-dateutil>=2.7 in d:\\users\\57176\\anaconda3\\lib\\site-packages (from matplotlib->adjustText) (2.8.2)\n",
      "Requirement already satisfied: kiwisolver>=1.0.1 in d:\\users\\57176\\anaconda3\\lib\\site-packages (from matplotlib->adjustText) (1.4.2)\n",
      "Requirement already satisfied: cycler>=0.10 in d:\\users\\57176\\anaconda3\\lib\\site-packages (from matplotlib->adjustText) (0.11.0)\n",
      "Requirement already satisfied: fonttools>=4.22.0 in d:\\users\\57176\\anaconda3\\lib\\site-packages (from matplotlib->adjustText) (4.25.0)\n",
      "Requirement already satisfied: contourpy>=1.0.1 in d:\\users\\57176\\anaconda3\\lib\\site-packages (from matplotlib->adjustText) (1.3.0)\n",
      "Requirement already satisfied: pillow>=6.2.0 in d:\\users\\57176\\anaconda3\\lib\\site-packages (from matplotlib->adjustText) (9.2.0)\n",
      "Requirement already satisfied: importlib-resources>=3.2.0 in d:\\users\\57176\\anaconda3\\lib\\site-packages (from matplotlib->adjustText) (6.5.2)\n",
      "Requirement already satisfied: packaging>=20.0 in d:\\users\\57176\\anaconda3\\lib\\site-packages (from matplotlib->adjustText) (21.3)\n",
      "Requirement already satisfied: zipp>=3.1.0 in d:\\users\\57176\\anaconda3\\lib\\site-packages (from importlib-resources>=3.2.0->matplotlib->adjustText) (3.23.0)\n",
      "Requirement already satisfied: six>=1.5 in d:\\users\\57176\\anaconda3\\lib\\site-packages (from python-dateutil>=2.7->matplotlib->adjustText) (1.16.0)\n",
      "Installing collected packages: adjustText\n",
      "Successfully installed adjustText-1.3.0\n",
      "Note: you may need to restart the kernel to use updated packages.\n"
     ]
    },
    {
     "name": "stderr",
     "output_type": "stream",
     "text": [
      "WARNING: Ignoring invalid distribution -atplotlib (d:\\users\\57176\\anaconda3\\lib\\site-packages)\n",
      "WARNING: Ignoring invalid distribution -atplotlib (d:\\users\\57176\\anaconda3\\lib\\site-packages)\n",
      "WARNING: Ignoring invalid distribution -atplotlib (d:\\users\\57176\\anaconda3\\lib\\site-packages)\n",
      "WARNING: Ignoring invalid distribution -atplotlib (d:\\users\\57176\\anaconda3\\lib\\site-packages)\n",
      "WARNING: Ignoring invalid distribution -atplotlib (d:\\users\\57176\\anaconda3\\lib\\site-packages)\n",
      "WARNING: Ignoring invalid distribution -atplotlib (d:\\users\\57176\\anaconda3\\lib\\site-packages)\n",
      "WARNING: Ignoring invalid distribution -atplotlib (d:\\users\\57176\\anaconda3\\lib\\site-packages)\n"
     ]
    }
   ],
   "source": [
    "pip install adjustText"
   ]
  },
  {
   "cell_type": "code",
   "execution_count": 1,
   "id": "2a69cb53",
   "metadata": {},
   "outputs": [],
   "source": [
    "import numpy as np\n",
    "import pandas as pd\n",
    "from sklearn.decomposition import PCA\n",
    "import matplotlib.pyplot as plt\n",
    "import scipy.stats as stats\n",
    "from sklearn.preprocessing import StandardScaler\n",
    "from factor_analyzer.factor_analyzer import calculate_kmo\n",
    "from factor_analyzer.factor_analyzer import calculate_bartlett_sphericity\n",
    "from factor_analyzer import FactorAnalyzer\n",
    "from sklearn.decomposition import FactorAnalysis\n",
    "\n",
    "import matplotlib.pyplot as plt\n",
    "import seaborn as sns\n",
    "from adjustText import adjust_text"
   ]
  },
  {
   "cell_type": "code",
   "execution_count": 2,
   "id": "1793b182",
   "metadata": {},
   "outputs": [],
   "source": [
    "data1 = pd.read_csv(\"datasets\\imputed_data_QS_RF.csv\")\n",
    "data2 = pd.read_csv(\"datasets\\imputed_data_QS_XGB.csv\")\n",
    "data2_sub = data2[['Institution Name', 'Year', 'IRN_SCORE', 'EO_SCORE', 'S_SCORE']]\n",
    "# 进行合并\n",
    "merged_df = pd.merge(data1, data2_sub, on=['Institution Name', 'Year'], how='left')\n",
    "# 计算平均值并创建新列\n",
    "merged_df['IRN_SCORE'] = (merged_df['IRN_SCORE_x'] + merged_df['IRN_SCORE_y']) / 2\n",
    "merged_df['EO_SCORE']  = (merged_df['EO_SCORE_x']  + merged_df['EO_SCORE_y'])  / 2\n",
    "merged_df['S_SCORE']   = (merged_df['S_SCORE_x']   + merged_df['S_SCORE_y'])   / 2\n",
    "merged_df.drop(columns=['IRN_SCORE_x', 'IRN_SCORE_y',\n",
    "                        'EO_SCORE_x',  'EO_SCORE_y',\n",
    "                        'S_SCORE_x',   'S_SCORE_y'], inplace=True)\n",
    "data = merged_df\n",
    "numeric_data = data.drop(columns=['Rank', 'Institution Name', 'Country', 'Year','CS','CF','RI','Age','STA','Overall'])\n",
    "numeric_data_standardized = (numeric_data - numeric_data.mean()) / numeric_data.std()"
   ]
  },
  {
   "cell_type": "code",
   "execution_count": 3,
   "id": "e78f3086",
   "metadata": {},
   "outputs": [
    {
     "data": {
      "text/html": [
       "<div>\n",
       "<style scoped>\n",
       "    .dataframe tbody tr th:only-of-type {\n",
       "        vertical-align: middle;\n",
       "    }\n",
       "\n",
       "    .dataframe tbody tr th {\n",
       "        vertical-align: top;\n",
       "    }\n",
       "\n",
       "    .dataframe thead th {\n",
       "        text-align: right;\n",
       "    }\n",
       "</style>\n",
       "<table border=\"1\" class=\"dataframe\">\n",
       "  <thead>\n",
       "    <tr style=\"text-align: right;\">\n",
       "      <th></th>\n",
       "      <th>AR_SCORE</th>\n",
       "      <th>ER_SCORE</th>\n",
       "      <th>FS_SCORE</th>\n",
       "      <th>CPF_SCORE</th>\n",
       "      <th>IF_SCORE</th>\n",
       "      <th>IS_SCORE</th>\n",
       "      <th>IRN_SCORE</th>\n",
       "      <th>EO_SCORE</th>\n",
       "      <th>S_SCORE</th>\n",
       "    </tr>\n",
       "  </thead>\n",
       "  <tbody>\n",
       "    <tr>\n",
       "      <th>0</th>\n",
       "      <td>3.024884</td>\n",
       "      <td>2.870956</td>\n",
       "      <td>2.260853</td>\n",
       "      <td>2.414919</td>\n",
       "      <td>1.888664</td>\n",
       "      <td>2.069494</td>\n",
       "      <td>1.280016</td>\n",
       "      <td>3.012929</td>\n",
       "      <td>1.862330</td>\n",
       "    </tr>\n",
       "    <tr>\n",
       "      <th>1</th>\n",
       "      <td>3.024884</td>\n",
       "      <td>2.870956</td>\n",
       "      <td>2.260853</td>\n",
       "      <td>2.397577</td>\n",
       "      <td>1.877068</td>\n",
       "      <td>1.321199</td>\n",
       "      <td>1.640523</td>\n",
       "      <td>3.069899</td>\n",
       "      <td>1.965150</td>\n",
       "    </tr>\n",
       "    <tr>\n",
       "      <th>2</th>\n",
       "      <td>3.024884</td>\n",
       "      <td>2.870956</td>\n",
       "      <td>2.201675</td>\n",
       "      <td>2.414919</td>\n",
       "      <td>1.787199</td>\n",
       "      <td>1.401145</td>\n",
       "      <td>1.632038</td>\n",
       "      <td>3.066247</td>\n",
       "      <td>1.978737</td>\n",
       "    </tr>\n",
       "    <tr>\n",
       "      <th>3</th>\n",
       "      <td>3.004376</td>\n",
       "      <td>2.299217</td>\n",
       "      <td>2.260853</td>\n",
       "      <td>2.418388</td>\n",
       "      <td>1.697330</td>\n",
       "      <td>1.848843</td>\n",
       "      <td>0.521766</td>\n",
       "      <td>1.389109</td>\n",
       "      <td>1.120990</td>\n",
       "    </tr>\n",
       "    <tr>\n",
       "      <th>4</th>\n",
       "      <td>3.024884</td>\n",
       "      <td>2.870956</td>\n",
       "      <td>2.260853</td>\n",
       "      <td>1.665719</td>\n",
       "      <td>1.813290</td>\n",
       "      <td>2.120659</td>\n",
       "      <td>1.677074</td>\n",
       "      <td>3.066556</td>\n",
       "      <td>1.705223</td>\n",
       "    </tr>\n",
       "  </tbody>\n",
       "</table>\n",
       "</div>"
      ],
      "text/plain": [
       "   AR_SCORE  ER_SCORE  FS_SCORE  CPF_SCORE  IF_SCORE  IS_SCORE  IRN_SCORE  \\\n",
       "0  3.024884  2.870956  2.260853   2.414919  1.888664  2.069494   1.280016   \n",
       "1  3.024884  2.870956  2.260853   2.397577  1.877068  1.321199   1.640523   \n",
       "2  3.024884  2.870956  2.201675   2.414919  1.787199  1.401145   1.632038   \n",
       "3  3.004376  2.299217  2.260853   2.418388  1.697330  1.848843   0.521766   \n",
       "4  3.024884  2.870956  2.260853   1.665719  1.813290  2.120659   1.677074   \n",
       "\n",
       "   EO_SCORE   S_SCORE  \n",
       "0  3.012929  1.862330  \n",
       "1  3.069899  1.965150  \n",
       "2  3.066247  1.978737  \n",
       "3  1.389109  1.120990  \n",
       "4  3.066556  1.705223  "
      ]
     },
     "execution_count": 3,
     "metadata": {},
     "output_type": "execute_result"
    }
   ],
   "source": [
    "numeric_data_standardized.head()"
   ]
  },
  {
   "cell_type": "markdown",
   "id": "031f9904",
   "metadata": {},
   "source": [
    "### Implementing PCA"
   ]
  },
  {
   "cell_type": "code",
   "execution_count": 4,
   "id": "68cb3d7c",
   "metadata": {
    "scrolled": true
   },
   "outputs": [
    {
     "name": "stdout",
     "output_type": "stream",
     "text": [
      "PC1: 54.34% variance explained\n",
      "PC2: 12.89% variance explained\n",
      "PC3: 10.78% variance explained\n",
      "PC4: 7.14% variance explained\n",
      "PC5: 5.50% variance explained\n",
      "PC6: 3.47% variance explained\n",
      "PC7: 2.50% variance explained\n",
      "PC8: 2.07% variance explained\n",
      "PC9: 1.31% variance explained\n"
     ]
    }
   ],
   "source": [
    "pca = PCA()\n",
    "pca.fit(numeric_data_standardized)\n",
    "\n",
    "explained_variance_ratio = pca.explained_variance_ratio_\n",
    "eigenvalues = pca.explained_variance_\n",
    "\n",
    "for i, var in enumerate(explained_variance_ratio, start=1):\n",
    "    print(f\"PC{i}: {var * 100:.2f}% variance explained\")"
   ]
  },
  {
   "cell_type": "code",
   "execution_count": 5,
   "id": "97c26892",
   "metadata": {},
   "outputs": [
    {
     "data": {
      "text/plain": [
       "array([ 54.33973379,  67.2252829 ,  78.00327022,  85.14391566,\n",
       "        90.64530125,  94.11616018,  96.61924669,  98.68955179,\n",
       "       100.        ])"
      ]
     },
     "execution_count": 5,
     "metadata": {},
     "output_type": "execute_result"
    }
   ],
   "source": [
    "cumulative_variance = np.cumsum(explained_variance_ratio)*100\n",
    "cumulative_variance"
   ]
  },
  {
   "cell_type": "code",
   "execution_count": 6,
   "id": "3bcc94e5",
   "metadata": {},
   "outputs": [
    {
     "data": {
      "image/png": "[encoded data removed]",
      "text/plain": [
       "<Figure size 600x400 with 1 Axes>"
      ]
     },
     "metadata": {},
     "output_type": "display_data"
    }
   ],
   "source": [
    "plt.figure(figsize=(6, 4))\n",
    "\n",
    "plt.scatter(range(1,numeric_data_standardized.shape[1]+1),cumulative_variance)\n",
    "plt.plot(range(1,numeric_data_standardized.shape[1]+1),cumulative_variance)\n",
    "plt.xlabel('Number of principal components',fontsize=10)\n",
    "plt.ylabel('Cumulative explained variance (%)',fontsize=10)\n",
    "plt.ylim(50, 105)\n",
    "plt.show()"
   ]
  },
  {
   "cell_type": "markdown",
   "id": "2f7644a5",
   "metadata": {},
   "source": [
    "### Factor Analysis"
   ]
  },
  {
   "cell_type": "code",
   "execution_count": 7,
   "id": "02a65ee6",
   "metadata": {},
   "outputs": [
    {
     "data": {
      "text/plain": [
       "0.8586770162519326"
      ]
     },
     "execution_count": 7,
     "metadata": {},
     "output_type": "execute_result"
    }
   ],
   "source": [
    "# KMO Test\n",
    "scaler = StandardScaler()\n",
    "df_scaled = scaler.fit_transform(numeric_data)\n",
    "\n",
    "kmo_all,kmo_model=calculate_kmo(df_scaled)\n",
    "kmo_model"
   ]
  },
  {
   "cell_type": "code",
   "execution_count": 8,
   "id": "23a09eae",
   "metadata": {},
   "outputs": [
    {
     "name": "stdout",
     "output_type": "stream",
     "text": [
      "Bartlett's test of result:\n",
      "statistic = 59415.0520\n",
      "0.0 p-value\n"
     ]
    }
   ],
   "source": [
    "# Bartlett’s Test of Sphericity\n",
    "chi2_val, p_val = calculate_bartlett_sphericity(numeric_data)\n",
    "\n",
    "print(f\"Bartlett's test of result:\")\n",
    "print(f\"statistic = {chi2_val:.4f}\")\n",
    "print(p_val,\"p-value\")"
   ]
  },
  {
   "cell_type": "code",
   "execution_count": 9,
   "id": "ce58c741",
   "metadata": {},
   "outputs": [
    {
     "data": {
      "text/plain": [
       "array([4.89057604, 1.15969942, 0.97001886, 0.64265809, 0.4951247 ,\n",
       "       0.3123773 , 0.22527779, 0.18632746, 0.11794034])"
      ]
     },
     "execution_count": 9,
     "metadata": {},
     "output_type": "execute_result"
    }
   ],
   "source": [
    "from factor_analyzer import FactorAnalyzer\n",
    "fa = FactorAnalyzer()\n",
    "fa.fit(numeric_data_standardized)\n",
    "eigen_values, vectors = fa.get_eigenvalues()\n",
    "eigen_values"
   ]
  },
  {
   "cell_type": "code",
   "execution_count": 10,
   "id": "e5f11001",
   "metadata": {},
   "outputs": [
    {
     "data": {
      "image/png": "[encoded data removed]",
      "text/plain": [
       "<Figure size 640x480 with 1 Axes>"
      ]
     },
     "metadata": {},
     "output_type": "display_data"
    }
   ],
   "source": [
    "plt.scatter(range(1,df_scaled.shape[1]+1),eigen_values)\n",
    "plt.plot(range(1,df_scaled.shape[1]+1),eigen_values)\n",
    "plt.xlabel('Factors',fontsize=12)\n",
    "plt.ylabel('Eigenvalue',fontsize=12)\n",
    "plt.show()"
   ]
  },
  {
   "cell_type": "code",
   "execution_count": 11,
   "id": "181dec94",
   "metadata": {
    "scrolled": true
   },
   "outputs": [
    {
     "name": "stdout",
     "output_type": "stream",
     "text": [
      "Loading matrix：\n",
      "             Factor1   Factor2   Factor3   Factor4\n",
      "AR_SCORE   0.823841  0.157635  0.156597  0.415806\n",
      "ER_SCORE   0.893390  0.183338  0.117827  0.184500\n",
      "FS_SCORE   0.196232  0.090562  0.974898  0.041319\n",
      "CPF_SCORE  0.160290  0.218821 -0.000472  0.814504\n",
      "IF_SCORE   0.165896  0.858556  0.033874  0.271381\n",
      "IS_SCORE   0.197616  0.882242  0.095870  0.161742\n",
      "IRN_SCORE  0.375574  0.171141  0.052040  0.795846\n",
      "EO_SCORE   0.855919  0.171598  0.121252  0.260772\n",
      "S_SCORE    0.527499  0.271517  0.096258  0.664722\n"
     ]
    }
   ],
   "source": [
    "fa = FactorAnalyzer(n_factors=4, rotation='varimax', method='principal')\n",
    "fa.fit(numeric_data_standardized)\n",
    "\n",
    "fa1 = FactorAnalyzer(n_factors=4, rotation=None, method='principal')\n",
    "fa1.fit(numeric_data_standardized)\n",
    "\n",
    "loadings = pd.DataFrame(\n",
    "    fa.loadings_,\n",
    "    index = numeric_data_standardized.columns,\n",
    "    columns=['Factor1', 'Factor2','Factor3','Factor4']\n",
    ")\n",
    "loadings1 = pd.DataFrame(\n",
    "    fa1.loadings_,\n",
    "    index = numeric_data_standardized.columns,\n",
    "    columns=['Factor1', 'Factor2','Factor3','Factor4']\n",
    ")\n",
    "print(\"Loading matrix：\\n\", loadings)"
   ]
  },
  {
   "cell_type": "code",
   "execution_count": 12,
   "id": "682d875f",
   "metadata": {
    "scrolled": true
   },
   "outputs": [
    {
     "name": "stderr",
     "output_type": "stream",
     "text": [
      "Looks like you are using a tranform that doesn't support FancyArrowPatch, using ax.annotate instead. The arrows might strike through texts. Increasing shrinkA in arrowprops might help.\n"
     ]
    },
    {
     "data": {
      "image/png": "[encoded data removed]",
      "text/plain": [
       "<Figure size 640x480 with 2 Axes>"
      ]
     },
     "metadata": {},
     "output_type": "display_data"
    }
   ],
   "source": [
    "# Plot the difference of using rotation\n",
    "plt.subplot(1, 2, 1)\n",
    "plt.scatter(fa1.loadings_[:, 1], fa1.loadings_[:, 2], c='blue')\n",
    "plt.axhline(0, color='gray', linestyle='--')\n",
    "plt.axvline(0, color='gray', linestyle='--')\n",
    "plt.title(\"Before Varimax Rotation\")\n",
    "plt.xlabel(\"Factor 2\",fontsize=12)\n",
    "plt.ylabel(\"Factor 3\",fontsize=12)\n",
    "plt.xlim(-0.5, 1)\n",
    "texts = []\n",
    "for i, txt in enumerate(loadings.index):\n",
    "    texts.append(plt.text(loadings1.iloc[i, 1], loadings1.iloc[i, 2], txt, ha='center',va='center',fontsize=9))\n",
    "adjust_text(\n",
    "    texts, \n",
    "    x=fa1.loadings_[:, 1], \n",
    "    y=fa1.loadings_[:, 2],\n",
    "    arrowprops=dict(arrowstyle='-', color='gray', alpha=0.5),  \n",
    "    force_points=0.2,  \n",
    "    force_text=0.2, \n",
    "    expand_points=(1.2, 1.2),  \n",
    "    expand_text=(1.2, 1.2),\n",
    "    lim=500\n",
    ")\n",
    "\n",
    "plt.subplot(1, 2, 2)\n",
    "plt.scatter(fa.loadings_[:, 1], fa.loadings_[:, 2], c='blue')\n",
    "plt.axhline(0, color='gray', linestyle='--')\n",
    "plt.axvline(0, color='gray', linestyle='--')\n",
    "plt.title(\"After Varimax Rotation\")\n",
    "plt.xlabel(\"Factor 2\",fontsize=12)\n",
    "plt.ylabel(\"Factor 3\",fontsize=12)\n",
    "plt.xlim(-0.3, 1)\n",
    "\n",
    "texts = []\n",
    "for i, txt in enumerate(loadings.index):\n",
    "    texts.append(plt.text(loadings.iloc[i, 1], loadings.iloc[i, 2], txt, ha='center',va='center',fontsize=9))\n",
    "\n",
    "adjust_text(\n",
    "    texts, \n",
    "    x=fa.loadings_[:, 1], \n",
    "    y=fa.loadings_[:, 2],\n",
    "    arrowprops=dict(arrowstyle='-', color='gray', alpha=0.5),  \n",
    "    force_points=0.2,  \n",
    "    force_text=0.2, \n",
    "    expand_points=(1.2, 1.2),  \n",
    "    expand_text=(1.2, 1.2),\n",
    "    lim=500\n",
    ")\n",
    "plt.tight_layout(w_pad=2.0, h_pad=2.0)\n",
    "plt.show()"
   ]
  },
  {
   "cell_type": "markdown",
   "id": "bc056431",
   "metadata": {},
   "source": [
    "Factor 1: 1,2,8  AR_SCORE, ER_SCORE, EO_SCORE\n",
    "\n",
    "Factor 2: 5,6  IF_SCORE, IS_SCORE\n",
    "\n",
    "Factor 3: 3  FS_SCORE\n",
    "\n",
    "Factor 4: 4,7,9  CPF_SCORE, IRN_SCORE , S_SCORE"
   ]
  },
  {
   "cell_type": "code",
   "execution_count": 13,
   "id": "1eec7645",
   "metadata": {},
   "outputs": [
    {
     "name": "stdout",
     "output_type": "stream",
     "text": [
      "Factor1: 30.66% culmulative variance explained\n",
      "Factor2: 50.24% culmulative variance explained\n",
      "Factor3: 61.64% culmulative variance explained\n",
      "Factor4: 85.14% culmulative variance explained\n"
     ]
    }
   ],
   "source": [
    "cum_explained_variance_ratio = fa.get_factor_variance()\n",
    "for i, var in enumerate(cum_explained_variance_ratio[2], start=1):\n",
    "    print(f\"Factor{i}: {var * 100:.2f}% culmulative variance explained\")"
   ]
  },
  {
   "cell_type": "code",
   "execution_count": 14,
   "id": "10ce1d0c",
   "metadata": {},
   "outputs": [
    {
     "data": {
      "text/plain": [
       "array([0.90097963, 0.87968126, 0.99884111, 0.73699334, 0.83943394,\n",
       "       0.85275484, 0.80642402, 0.84474659, 0.80309766])"
      ]
     },
     "execution_count": 14,
     "metadata": {},
     "output_type": "execute_result"
    }
   ],
   "source": [
    "fa.get_communalities()"
   ]
  },
  {
   "cell_type": "markdown",
   "id": "e657a3a6",
   "metadata": {},
   "source": [
    "### Calculate FA_Score"
   ]
  },
  {
   "cell_type": "code",
   "execution_count": 15,
   "id": "44158efb",
   "metadata": {},
   "outputs": [
    {
     "data": {
      "text/html": [
       "<div>\n",
       "<style scoped>\n",
       "    .dataframe tbody tr th:only-of-type {\n",
       "        vertical-align: middle;\n",
       "    }\n",
       "\n",
       "    .dataframe tbody tr th {\n",
       "        vertical-align: top;\n",
       "    }\n",
       "\n",
       "    .dataframe thead th {\n",
       "        text-align: right;\n",
       "    }\n",
       "</style>\n",
       "<table border=\"1\" class=\"dataframe\">\n",
       "  <thead>\n",
       "    <tr style=\"text-align: right;\">\n",
       "      <th></th>\n",
       "      <th>FA_1</th>\n",
       "      <th>FA_2</th>\n",
       "      <th>FA_3</th>\n",
       "      <th>FA_4</th>\n",
       "    </tr>\n",
       "  </thead>\n",
       "  <tbody>\n",
       "    <tr>\n",
       "      <th>0</th>\n",
       "      <td>0.757755</td>\n",
       "      <td>0.660698</td>\n",
       "      <td>0.761455</td>\n",
       "      <td>0.658492</td>\n",
       "    </tr>\n",
       "    <tr>\n",
       "      <th>1</th>\n",
       "      <td>0.761897</td>\n",
       "      <td>0.549166</td>\n",
       "      <td>0.764023</td>\n",
       "      <td>0.718516</td>\n",
       "    </tr>\n",
       "    <tr>\n",
       "      <th>2</th>\n",
       "      <td>0.763375</td>\n",
       "      <td>0.549125</td>\n",
       "      <td>0.750595</td>\n",
       "      <td>0.718740</td>\n",
       "    </tr>\n",
       "    <tr>\n",
       "      <th>3</th>\n",
       "      <td>0.616795</td>\n",
       "      <td>0.652353</td>\n",
       "      <td>0.812048</td>\n",
       "      <td>0.638057</td>\n",
       "    </tr>\n",
       "    <tr>\n",
       "      <th>4</th>\n",
       "      <td>0.786222</td>\n",
       "      <td>0.660116</td>\n",
       "      <td>0.759762</td>\n",
       "      <td>0.602440</td>\n",
       "    </tr>\n",
       "  </tbody>\n",
       "</table>\n",
       "</div>"
      ],
      "text/plain": [
       "       FA_1      FA_2      FA_3      FA_4\n",
       "0  0.757755  0.660698  0.761455  0.658492\n",
       "1  0.761897  0.549166  0.764023  0.718516\n",
       "2  0.763375  0.549125  0.750595  0.718740\n",
       "3  0.616795  0.652353  0.812048  0.638057\n",
       "4  0.786222  0.660116  0.759762  0.602440"
      ]
     },
     "execution_count": 15,
     "metadata": {},
     "output_type": "execute_result"
    }
   ],
   "source": [
    "FA_Score = fa.fit_transform(numeric_data_standardized)\n",
    "FA_Score = pd.DataFrame(FA_Score, columns=['FA_1', 'FA_2','FA_3','FA_4'])\n",
    "FA_Score_standardized = (FA_Score - FA_Score.min()) / (FA_Score.max() - FA_Score.min())\n",
    "FA_Score_standardized.head()"
   ]
  },
  {
   "cell_type": "markdown",
   "id": "4d8a50ec",
   "metadata": {},
   "source": [
    "### Calculate PCA_Score"
   ]
  },
  {
   "cell_type": "code",
   "execution_count": 16,
   "id": "e094a32d",
   "metadata": {},
   "outputs": [],
   "source": [
    "col_factor1 = ['AR_SCORE', 'ER_SCORE', 'EO_SCORE']\n",
    "col_factor2 = ['IF_SCORE', 'IS_SCORE']\n",
    "col_factor3 = ['FS_SCORE']\n",
    "col_factor4 = ['CPF_SCORE', 'IRN_SCORE', 'S_SCORE']\n",
    "factor1 = numeric_data_standardized[col_factor1]\n",
    "factor2 = numeric_data_standardized[col_factor2]\n",
    "factor3 = numeric_data_standardized[col_factor3]\n",
    "factor4 = numeric_data_standardized[col_factor4]"
   ]
  },
  {
   "cell_type": "code",
   "execution_count": 17,
   "id": "566c0f01",
   "metadata": {},
   "outputs": [],
   "source": [
    "# PCA for each factor\n",
    "factor_num = loadings.shape[1]\n",
    "explained_variance_ratio = np.zeros(factor_num)\n",
    "\n",
    "pca = PCA(n_components = 1)\n",
    "pca_scores1 = pca.fit_transform(factor1)\n",
    "explained_variance_ratio[0] = pca.explained_variance_ratio_[0]\n",
    "pca_scores2 = pca.fit_transform(factor2)\n",
    "explained_variance_ratio[1] = pca.explained_variance_ratio_[0]\n",
    "pca_scores3 = pca.fit_transform(factor3)\n",
    "explained_variance_ratio[2] = pca.explained_variance_ratio_[0]\n",
    "pca_scores4 = pca.fit_transform(factor4)\n",
    "explained_variance_ratio[3] = pca.explained_variance_ratio_[0]"
   ]
  },
  {
   "cell_type": "code",
   "execution_count": 18,
   "id": "31cc24d7",
   "metadata": {},
   "outputs": [
    {
     "name": "stdout",
     "output_type": "stream",
     "text": [
      "Factor 1: 87.21% variance explained\n",
      "Factor 2: 84.25% variance explained\n",
      "Factor 3: 100.00% variance explained\n",
      "Factor 4: 75.89% variance explained\n"
     ]
    }
   ],
   "source": [
    "for i, var in enumerate(explained_variance_ratio, start=1):\n",
    "    print(f\"Factor {i}: {var * 100:.2f}% variance explained\")"
   ]
  },
  {
   "cell_type": "code",
   "execution_count": 19,
   "id": "9b551ce0",
   "metadata": {},
   "outputs": [
    {
     "data": {
      "text/html": [
       "<div>\n",
       "<style scoped>\n",
       "    .dataframe tbody tr th:only-of-type {\n",
       "        vertical-align: middle;\n",
       "    }\n",
       "\n",
       "    .dataframe tbody tr th {\n",
       "        vertical-align: top;\n",
       "    }\n",
       "\n",
       "    .dataframe thead th {\n",
       "        text-align: right;\n",
       "    }\n",
       "</style>\n",
       "<table border=\"1\" class=\"dataframe\">\n",
       "  <thead>\n",
       "    <tr style=\"text-align: right;\">\n",
       "      <th></th>\n",
       "      <th>pca_1</th>\n",
       "      <th>pca_2</th>\n",
       "      <th>pca_3</th>\n",
       "      <th>pca_4</th>\n",
       "    </tr>\n",
       "  </thead>\n",
       "  <tbody>\n",
       "    <tr>\n",
       "      <th>0</th>\n",
       "      <td>0.991879</td>\n",
       "      <td>0.979328</td>\n",
       "      <td>1.000000</td>\n",
       "      <td>0.928445</td>\n",
       "    </tr>\n",
       "    <tr>\n",
       "      <th>1</th>\n",
       "      <td>0.996533</td>\n",
       "      <td>0.853371</td>\n",
       "      <td>1.000000</td>\n",
       "      <td>0.974030</td>\n",
       "    </tr>\n",
       "    <tr>\n",
       "      <th>2</th>\n",
       "      <td>0.996235</td>\n",
       "      <td>0.851726</td>\n",
       "      <td>0.982811</td>\n",
       "      <td>0.976073</td>\n",
       "    </tr>\n",
       "    <tr>\n",
       "      <th>3</th>\n",
       "      <td>0.809984</td>\n",
       "      <td>0.911039</td>\n",
       "      <td>1.000000</td>\n",
       "      <td>0.776481</td>\n",
       "    </tr>\n",
       "    <tr>\n",
       "      <th>4</th>\n",
       "      <td>0.996260</td>\n",
       "      <td>0.975315</td>\n",
       "      <td>1.000000</td>\n",
       "      <td>0.886831</td>\n",
       "    </tr>\n",
       "  </tbody>\n",
       "</table>\n",
       "</div>"
      ],
      "text/plain": [
       "      pca_1     pca_2     pca_3     pca_4\n",
       "0  0.991879  0.979328  1.000000  0.928445\n",
       "1  0.996533  0.853371  1.000000  0.974030\n",
       "2  0.996235  0.851726  0.982811  0.976073\n",
       "3  0.809984  0.911039  1.000000  0.776481\n",
       "4  0.996260  0.975315  1.000000  0.886831"
      ]
     },
     "execution_count": 19,
     "metadata": {},
     "output_type": "execute_result"
    }
   ],
   "source": [
    "PCA_Score = np.column_stack((pca_scores1, pca_scores2, pca_scores3, pca_scores4))\n",
    "PCA_Score = pd.DataFrame(PCA_Score, columns=['pca_1', 'pca_2','pca_3','pca_4'])\n",
    "PCA_Score_standardized = (PCA_Score - PCA_Score.min()) / (PCA_Score.max() - PCA_Score.min())\n",
    "PCA_Score_standardized.head()"
   ]
  },
  {
   "cell_type": "code",
   "execution_count": 20,
   "id": "337c9ffa",
   "metadata": {},
   "outputs": [
    {
     "data": {
      "text/html": [
       "<div>\n",
       "<style scoped>\n",
       "    .dataframe tbody tr th:only-of-type {\n",
       "        vertical-align: middle;\n",
       "    }\n",
       "\n",
       "    .dataframe tbody tr th {\n",
       "        vertical-align: top;\n",
       "    }\n",
       "\n",
       "    .dataframe thead th {\n",
       "        text-align: right;\n",
       "    }\n",
       "</style>\n",
       "<table border=\"1\" class=\"dataframe\">\n",
       "  <thead>\n",
       "    <tr style=\"text-align: right;\">\n",
       "      <th></th>\n",
       "      <th>Institution Name</th>\n",
       "      <th>Country</th>\n",
       "      <th>Year</th>\n",
       "      <th>FA_1</th>\n",
       "      <th>FA_2</th>\n",
       "      <th>FA_3</th>\n",
       "      <th>FA_4</th>\n",
       "      <th>pca_1</th>\n",
       "      <th>pca_2</th>\n",
       "      <th>pca_3</th>\n",
       "      <th>pca_4</th>\n",
       "    </tr>\n",
       "  </thead>\n",
       "  <tbody>\n",
       "    <tr>\n",
       "      <th>0</th>\n",
       "      <td>MASSACHUSETTS INSTITUTE OF TECHNOLOGY (MIT)</td>\n",
       "      <td>United States</td>\n",
       "      <td>2018</td>\n",
       "      <td>0.757755</td>\n",
       "      <td>0.660698</td>\n",
       "      <td>0.761455</td>\n",
       "      <td>0.658492</td>\n",
       "      <td>0.991879</td>\n",
       "      <td>0.979328</td>\n",
       "      <td>1.000000</td>\n",
       "      <td>0.928445</td>\n",
       "    </tr>\n",
       "    <tr>\n",
       "      <th>1</th>\n",
       "      <td>STANFORD UNIVERSITY</td>\n",
       "      <td>United States</td>\n",
       "      <td>2018</td>\n",
       "      <td>0.761897</td>\n",
       "      <td>0.549166</td>\n",
       "      <td>0.764023</td>\n",
       "      <td>0.718516</td>\n",
       "      <td>0.996533</td>\n",
       "      <td>0.853371</td>\n",
       "      <td>1.000000</td>\n",
       "      <td>0.974030</td>\n",
       "    </tr>\n",
       "    <tr>\n",
       "      <th>2</th>\n",
       "      <td>HARVARD UNIVERSITY</td>\n",
       "      <td>United States</td>\n",
       "      <td>2018</td>\n",
       "      <td>0.763375</td>\n",
       "      <td>0.549125</td>\n",
       "      <td>0.750595</td>\n",
       "      <td>0.718740</td>\n",
       "      <td>0.996235</td>\n",
       "      <td>0.851726</td>\n",
       "      <td>0.982811</td>\n",
       "      <td>0.976073</td>\n",
       "    </tr>\n",
       "    <tr>\n",
       "      <th>3</th>\n",
       "      <td>CALIFORNIA INSTITUTE OF TECHNOLOGY (CALTECH)</td>\n",
       "      <td>United States</td>\n",
       "      <td>2018</td>\n",
       "      <td>0.616795</td>\n",
       "      <td>0.652353</td>\n",
       "      <td>0.812048</td>\n",
       "      <td>0.638057</td>\n",
       "      <td>0.809984</td>\n",
       "      <td>0.911039</td>\n",
       "      <td>1.000000</td>\n",
       "      <td>0.776481</td>\n",
       "    </tr>\n",
       "    <tr>\n",
       "      <th>4</th>\n",
       "      <td>UNIVERSITY OF CAMBRIDGE</td>\n",
       "      <td>United Kingdom</td>\n",
       "      <td>2018</td>\n",
       "      <td>0.786222</td>\n",
       "      <td>0.660116</td>\n",
       "      <td>0.759762</td>\n",
       "      <td>0.602440</td>\n",
       "      <td>0.996260</td>\n",
       "      <td>0.975315</td>\n",
       "      <td>1.000000</td>\n",
       "      <td>0.886831</td>\n",
       "    </tr>\n",
       "  </tbody>\n",
       "</table>\n",
       "</div>"
      ],
      "text/plain": [
       "                               Institution Name         Country  Year  \\\n",
       "0  MASSACHUSETTS INSTITUTE OF TECHNOLOGY (MIT)    United States  2018   \n",
       "1                           STANFORD UNIVERSITY   United States  2018   \n",
       "2                            HARVARD UNIVERSITY   United States  2018   \n",
       "3  CALIFORNIA INSTITUTE OF TECHNOLOGY (CALTECH)   United States  2018   \n",
       "4                       UNIVERSITY OF CAMBRIDGE  United Kingdom  2018   \n",
       "\n",
       "       FA_1      FA_2      FA_3      FA_4     pca_1     pca_2     pca_3  \\\n",
       "0  0.757755  0.660698  0.761455  0.658492  0.991879  0.979328  1.000000   \n",
       "1  0.761897  0.549166  0.764023  0.718516  0.996533  0.853371  1.000000   \n",
       "2  0.763375  0.549125  0.750595  0.718740  0.996235  0.851726  0.982811   \n",
       "3  0.616795  0.652353  0.812048  0.638057  0.809984  0.911039  1.000000   \n",
       "4  0.786222  0.660116  0.759762  0.602440  0.996260  0.975315  1.000000   \n",
       "\n",
       "      pca_4  \n",
       "0  0.928445  \n",
       "1  0.974030  \n",
       "2  0.976073  \n",
       "3  0.776481  \n",
       "4  0.886831  "
      ]
     },
     "execution_count": 20,
     "metadata": {},
     "output_type": "execute_result"
    }
   ],
   "source": [
    "model_score = pd.concat([data[['Institution Name','Country','Year']],FA_Score_standardized, PCA_Score_standardized],axis = 1)\n",
    "model_score.to_csv('datasets\\model_score.csv',index = False)\n",
    "model_score.head()"
   ]
  }
 ],
 "metadata": {
  "kernelspec": {
   "display_name": "Python 3 (ipykernel)",
   "language": "python",
   "name": "python3"
  },
  "language_info": {
   "codemirror_mode": {
    "name": "ipython",
    "version": 3
   },
   "file_extension": ".py",
   "mimetype": "text/x-python",
   "name": "python",
   "nbconvert_exporter": "python",
   "pygments_lexer": "ipython3",
   "version": "3.9.13"
  }
 },
 "nbformat": 4,
 "nbformat_minor": 5
}
