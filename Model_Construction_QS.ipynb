{
 "cells": [
  {
   "cell_type": "code",
   "execution_count": 1,
   "id": "2a69cb53",
   "metadata": {},
   "outputs": [],
   "source": [
    "import numpy as np\n",
    "import pandas as pd\n",
    "from sklearn.decomposition import PCA\n",
    "import matplotlib.pyplot as plt\n",
    "import scipy.stats as stats\n",
    "from sklearn.preprocessing import StandardScaler\n",
    "from factor_analyzer.factor_analyzer import calculate_kmo\n",
    "from factor_analyzer.factor_analyzer import calculate_bartlett_sphericity\n",
    "from factor_analyzer import FactorAnalyzer\n",
    "from sklearn.decomposition import FactorAnalysis\n",
    "\n",
    "import matplotlib.pyplot as plt\n",
    "import seaborn as sns"
   ]
  },
  {
   "cell_type": "code",
   "execution_count": 2,
   "id": "1793b182",
   "metadata": {},
   "outputs": [],
   "source": [
    "data = pd.read_csv(\"datasets/imputed_data_QS.csv\")\n",
    "numeric_data = data.drop(columns=['Rank', 'Institution Name', 'Country', 'Year','CS','CF','RI','Age','STA','Overall'])\n",
    "numeric_data_standardized = (numeric_data - numeric_data.mean()) / numeric_data.std()"
   ]
  },
  {
   "cell_type": "code",
   "execution_count": 3,
   "id": "e78f3086",
   "metadata": {},
   "outputs": [
    {
     "data": {
      "text/html": [
       "<div>\n",
       "<style scoped>\n",
       "    .dataframe tbody tr th:only-of-type {\n",
       "        vertical-align: middle;\n",
       "    }\n",
       "\n",
       "    .dataframe tbody tr th {\n",
       "        vertical-align: top;\n",
       "    }\n",
       "\n",
       "    .dataframe thead th {\n",
       "        text-align: right;\n",
       "    }\n",
       "</style>\n",
       "<table border=\"1\" class=\"dataframe\">\n",
       "  <thead>\n",
       "    <tr style=\"text-align: right;\">\n",
       "      <th></th>\n",
       "      <th>AR_SCORE</th>\n",
       "      <th>ER_SCORE</th>\n",
       "      <th>FS_SCORE</th>\n",
       "      <th>CPF_SCORE</th>\n",
       "      <th>IF_SCORE</th>\n",
       "      <th>IS_SCORE</th>\n",
       "      <th>IRN_SCORE</th>\n",
       "      <th>EO_SCORE</th>\n",
       "      <th>S_SCORE</th>\n",
       "    </tr>\n",
       "  </thead>\n",
       "  <tbody>\n",
       "    <tr>\n",
       "      <th>0</th>\n",
       "      <td>3.024884</td>\n",
       "      <td>2.870956</td>\n",
       "      <td>2.260853</td>\n",
       "      <td>2.414919</td>\n",
       "      <td>1.888664</td>\n",
       "      <td>2.069494</td>\n",
       "      <td>1.243874</td>\n",
       "      <td>3.079650</td>\n",
       "      <td>1.874536</td>\n",
       "    </tr>\n",
       "    <tr>\n",
       "      <th>1</th>\n",
       "      <td>3.024884</td>\n",
       "      <td>2.870956</td>\n",
       "      <td>2.260853</td>\n",
       "      <td>2.397577</td>\n",
       "      <td>1.877068</td>\n",
       "      <td>1.321199</td>\n",
       "      <td>1.679380</td>\n",
       "      <td>3.127967</td>\n",
       "      <td>1.969759</td>\n",
       "    </tr>\n",
       "    <tr>\n",
       "      <th>2</th>\n",
       "      <td>3.024884</td>\n",
       "      <td>2.870956</td>\n",
       "      <td>2.201675</td>\n",
       "      <td>2.414919</td>\n",
       "      <td>1.787199</td>\n",
       "      <td>1.401145</td>\n",
       "      <td>1.681714</td>\n",
       "      <td>3.114253</td>\n",
       "      <td>1.947052</td>\n",
       "    </tr>\n",
       "    <tr>\n",
       "      <th>3</th>\n",
       "      <td>3.004376</td>\n",
       "      <td>2.299217</td>\n",
       "      <td>2.260853</td>\n",
       "      <td>2.418388</td>\n",
       "      <td>1.697330</td>\n",
       "      <td>1.848843</td>\n",
       "      <td>0.743728</td>\n",
       "      <td>1.658118</td>\n",
       "      <td>1.145431</td>\n",
       "    </tr>\n",
       "    <tr>\n",
       "      <th>4</th>\n",
       "      <td>3.024884</td>\n",
       "      <td>2.870956</td>\n",
       "      <td>2.260853</td>\n",
       "      <td>1.665719</td>\n",
       "      <td>1.813290</td>\n",
       "      <td>2.120659</td>\n",
       "      <td>1.742031</td>\n",
       "      <td>3.121391</td>\n",
       "      <td>1.661430</td>\n",
       "    </tr>\n",
       "  </tbody>\n",
       "</table>\n",
       "</div>"
      ],
      "text/plain": [
       "   AR_SCORE  ER_SCORE  FS_SCORE  CPF_SCORE  IF_SCORE  IS_SCORE  IRN_SCORE  \\\n",
       "0  3.024884  2.870956  2.260853   2.414919  1.888664  2.069494   1.243874   \n",
       "1  3.024884  2.870956  2.260853   2.397577  1.877068  1.321199   1.679380   \n",
       "2  3.024884  2.870956  2.201675   2.414919  1.787199  1.401145   1.681714   \n",
       "3  3.004376  2.299217  2.260853   2.418388  1.697330  1.848843   0.743728   \n",
       "4  3.024884  2.870956  2.260853   1.665719  1.813290  2.120659   1.742031   \n",
       "\n",
       "   EO_SCORE   S_SCORE  \n",
       "0  3.079650  1.874536  \n",
       "1  3.127967  1.969759  \n",
       "2  3.114253  1.947052  \n",
       "3  1.658118  1.145431  \n",
       "4  3.121391  1.661430  "
      ]
     },
     "execution_count": 3,
     "metadata": {},
     "output_type": "execute_result"
    }
   ],
   "source": [
    "numeric_data_standardized.head()"
   ]
  },
  {
   "cell_type": "markdown",
   "id": "031f9904",
   "metadata": {},
   "source": [
    "### Implementing PCA"
   ]
  },
  {
   "cell_type": "code",
   "execution_count": 4,
   "id": "68cb3d7c",
   "metadata": {
    "scrolled": true
   },
   "outputs": [
    {
     "name": "stdout",
     "output_type": "stream",
     "text": [
      "PC1: 54.68% variance explained\n",
      "PC2: 12.82% variance explained\n",
      "PC3: 10.78% variance explained\n",
      "PC4: 7.11% variance explained\n",
      "PC5: 5.44% variance explained\n",
      "PC6: 3.45% variance explained\n",
      "PC7: 2.38% variance explained\n",
      "PC8: 2.04% variance explained\n",
      "PC9: 1.30% variance explained\n"
     ]
    }
   ],
   "source": [
    "pca = PCA()\n",
    "pca.fit(numeric_data_standardized)\n",
    "\n",
    "explained_variance_ratio = pca.explained_variance_ratio_\n",
    "eigenvalues = pca.explained_variance_\n",
    "\n",
    "for i, var in enumerate(explained_variance_ratio, start=1):\n",
    "    print(f\"PC{i}: {var * 100:.2f}% variance explained\")"
   ]
  },
  {
   "cell_type": "markdown",
   "id": "2f7644a5",
   "metadata": {},
   "source": [
    "### Factor Analysis"
   ]
  },
  {
   "cell_type": "code",
   "execution_count": 5,
   "id": "02a65ee6",
   "metadata": {},
   "outputs": [
    {
     "data": {
      "text/plain": [
       "0.8613561538213419"
      ]
     },
     "execution_count": 5,
     "metadata": {},
     "output_type": "execute_result"
    }
   ],
   "source": [
    "# KMO Test\n",
    "scaler = StandardScaler()\n",
    "df_scaled = scaler.fit_transform(numeric_data)\n",
    "\n",
    "kmo_all,kmo_model=calculate_kmo(df_scaled)\n",
    "kmo_model"
   ]
  },
  {
   "cell_type": "code",
   "execution_count": 6,
   "id": "23a09eae",
   "metadata": {},
   "outputs": [
    {
     "name": "stdout",
     "output_type": "stream",
     "text": [
      "Bartlett's test of result:\n",
      "statistic = 60318.0221\n",
      "0.0 p-value\n"
     ]
    }
   ],
   "source": [
    "# Bartlett’s Test of Sphericity\n",
    "chi2_val, p_val = calculate_bartlett_sphericity(numeric_data)\n",
    "\n",
    "print(f\"Bartlett's test of result:\")\n",
    "print(f\"statistic = {chi2_val:.4f}\")\n",
    "print(p_val,\"p-value\")"
   ]
  },
  {
   "cell_type": "code",
   "execution_count": 7,
   "id": "ce58c741",
   "metadata": {},
   "outputs": [
    {
     "data": {
      "text/plain": [
       "array([4.92087885, 1.15397126, 0.97000319, 0.63965077, 0.48950273,\n",
       "       0.31093576, 0.21390474, 0.18375586, 0.11739683])"
      ]
     },
     "execution_count": 7,
     "metadata": {},
     "output_type": "execute_result"
    }
   ],
   "source": [
    "from factor_analyzer import FactorAnalyzer\n",
    "fa = FactorAnalyzer()\n",
    "fa.fit(numeric_data_standardized)\n",
    "eigen_values, vectors = fa.get_eigenvalues()\n",
    "eigen_values"
   ]
  },
  {
   "cell_type": "code",
   "execution_count": 8,
   "id": "e5f11001",
   "metadata": {},
   "outputs": [
    {
     "data": {
      "image/png": "[encoded data removed]",
      "text/plain": [
       "<Figure size 640x480 with 1 Axes>"
      ]
     },
     "metadata": {},
     "output_type": "display_data"
    }
   ],
   "source": [
    "plt.scatter(range(1,df_scaled.shape[1]+1),eigen_values)\n",
    "plt.plot(range(1,df_scaled.shape[1]+1),eigen_values)\n",
    "plt.title('Scree Plot')\n",
    "plt.xlabel('Factors')\n",
    "plt.ylabel('Eigenvalue')\n",
    "plt.show()"
   ]
  },
  {
   "cell_type": "code",
   "execution_count": 9,
   "id": "181dec94",
   "metadata": {
    "scrolled": true
   },
   "outputs": [
    {
     "name": "stdout",
     "output_type": "stream",
     "text": [
      "Loading matrix：\n",
      "             Factor1   Factor2   Factor3   Factor4\n",
      "AR_SCORE   0.826870  0.156428  0.157013  0.413838\n",
      "ER_SCORE   0.897853  0.181945  0.117733  0.181115\n",
      "FS_SCORE   0.195031  0.090533  0.975093  0.041371\n",
      "CPF_SCORE  0.165199  0.216812 -0.002476  0.814843\n",
      "IF_SCORE   0.165771  0.858439  0.034209  0.272027\n",
      "IS_SCORE   0.199154  0.882037  0.095747  0.161176\n",
      "IRN_SCORE  0.377020  0.172670  0.054672  0.794816\n",
      "EO_SCORE   0.852021  0.180052  0.121752  0.279383\n",
      "S_SCORE    0.524327  0.275551  0.096979  0.668536\n"
     ]
    }
   ],
   "source": [
    "fa = FactorAnalyzer(n_factors=4, rotation='varimax', method='principal')\n",
    "fa.fit(numeric_data_standardized)\n",
    "\n",
    "fa1 = FactorAnalyzer(n_factors=4, rotation=None, method='principal')\n",
    "fa1.fit(numeric_data_standardized)\n",
    "\n",
    "loadings = pd.DataFrame(\n",
    "    fa.loadings_,\n",
    "    index = numeric_data_standardized.columns,\n",
    "    columns=['Factor1', 'Factor2','Factor3','Factor4']\n",
    ")\n",
    "print(\"Loading matrix：\\n\", loadings)"
   ]
  },
  {
   "cell_type": "code",
   "execution_count": 10,
   "id": "682d875f",
   "metadata": {},
   "outputs": [
    {
     "data": {
      "image/png": "[encoded data removed]",
      "text/plain": [
       "<Figure size 640x480 with 2 Axes>"
      ]
     },
     "metadata": {},
     "output_type": "display_data"
    }
   ],
   "source": [
    "# Plot the difference of using rotation\n",
    "plt.subplot(1, 2, 1)\n",
    "plt.scatter(fa1.loadings_[:, 0], fa1.loadings_[:, 1], c='blue')\n",
    "plt.axhline(0, color='gray', linestyle='--')\n",
    "plt.axvline(0, color='gray', linestyle='--')\n",
    "plt.title(\"Before Varimax Rotation\")\n",
    "plt.xlabel(\"Factor 1\")\n",
    "plt.ylabel(\"Factor 2\")\n",
    "\n",
    "plt.subplot(1, 2, 2)\n",
    "plt.scatter(fa.loadings_[:, 0], fa.loadings_[:, 1], c='blue')\n",
    "plt.axhline(0, color='gray', linestyle='--')\n",
    "plt.axvline(0, color='gray', linestyle='--')\n",
    "plt.title(\"After Varimax Rotation\")\n",
    "plt.xlabel(\"Factor 1\")\n",
    "plt.ylabel(\"Factor 2\")\n",
    "\n",
    "plt.tight_layout(w_pad=5.0, h_pad=2.0)\n",
    "plt.show()"
   ]
  },
  {
   "cell_type": "markdown",
   "id": "bc056431",
   "metadata": {},
   "source": [
    "Factor 1: 1,2,8  AR_SCORE, ER_SCORE, EO_SCORE\n",
    "\n",
    "Factor 2: 5,6  IF_SCORE, IS_SCORE\n",
    "\n",
    "Factor 3: 3  FS_SCORE\n",
    "\n",
    "Factor 4: 4,7,9  CPF_SCORE, IRN_SCORE , S_SCORE"
   ]
  },
  {
   "cell_type": "code",
   "execution_count": 11,
   "id": "1eec7645",
   "metadata": {},
   "outputs": [
    {
     "name": "stdout",
     "output_type": "stream",
     "text": [
      "Factor1: 30.73% culmulative variance explained\n",
      "Factor2: 50.35% culmulative variance explained\n",
      "Factor3: 61.76% culmulative variance explained\n",
      "Factor4: 85.38% culmulative variance explained\n"
     ]
    }
   ],
   "source": [
    "cum_explained_variance_ratio = fa.get_factor_variance()\n",
    "for i, var in enumerate(cum_explained_variance_ratio[2], start=1):\n",
    "    print(f\"Factor{i}: {var * 100:.2f}% culmulative variance explained\")"
   ]
  },
  {
   "cell_type": "code",
   "execution_count": 12,
   "id": "10ce1d0c",
   "metadata": {},
   "outputs": [
    {
     "data": {
      "text/plain": [
       "array([0.90409852, 0.88590839, 0.99875179, 0.73827269, 0.83956593,\n",
       "       0.85279733, 0.8066801 , 0.85123637, 0.80719295])"
      ]
     },
     "execution_count": 12,
     "metadata": {},
     "output_type": "execute_result"
    }
   ],
   "source": [
    "fa.get_communalities()"
   ]
  },
  {
   "cell_type": "markdown",
   "id": "e657a3a6",
   "metadata": {},
   "source": [
    "### Calculate FA_Score"
   ]
  },
  {
   "cell_type": "code",
   "execution_count": 13,
   "id": "44158efb",
   "metadata": {},
   "outputs": [
    {
     "data": {
      "text/html": [
       "<div>\n",
       "<style scoped>\n",
       "    .dataframe tbody tr th:only-of-type {\n",
       "        vertical-align: middle;\n",
       "    }\n",
       "\n",
       "    .dataframe tbody tr th {\n",
       "        vertical-align: top;\n",
       "    }\n",
       "\n",
       "    .dataframe thead th {\n",
       "        text-align: right;\n",
       "    }\n",
       "</style>\n",
       "<table border=\"1\" class=\"dataframe\">\n",
       "  <thead>\n",
       "    <tr style=\"text-align: right;\">\n",
       "      <th></th>\n",
       "      <th>FA_1</th>\n",
       "      <th>FA_2</th>\n",
       "      <th>FA_3</th>\n",
       "      <th>FA_4</th>\n",
       "    </tr>\n",
       "  </thead>\n",
       "  <tbody>\n",
       "    <tr>\n",
       "      <th>0</th>\n",
       "      <td>0.759353</td>\n",
       "      <td>0.660649</td>\n",
       "      <td>0.758502</td>\n",
       "      <td>0.653160</td>\n",
       "    </tr>\n",
       "    <tr>\n",
       "      <th>1</th>\n",
       "      <td>0.761055</td>\n",
       "      <td>0.547066</td>\n",
       "      <td>0.762039</td>\n",
       "      <td>0.720414</td>\n",
       "    </tr>\n",
       "    <tr>\n",
       "      <th>2</th>\n",
       "      <td>0.761588</td>\n",
       "      <td>0.547089</td>\n",
       "      <td>0.748739</td>\n",
       "      <td>0.719905</td>\n",
       "    </tr>\n",
       "    <tr>\n",
       "      <th>3</th>\n",
       "      <td>0.630186</td>\n",
       "      <td>0.642320</td>\n",
       "      <td>0.804791</td>\n",
       "      <td>0.648269</td>\n",
       "    </tr>\n",
       "    <tr>\n",
       "      <th>4</th>\n",
       "      <td>0.784793</td>\n",
       "      <td>0.657972</td>\n",
       "      <td>0.758207</td>\n",
       "      <td>0.603382</td>\n",
       "    </tr>\n",
       "  </tbody>\n",
       "</table>\n",
       "</div>"
      ],
      "text/plain": [
       "       FA_1      FA_2      FA_3      FA_4\n",
       "0  0.759353  0.660649  0.758502  0.653160\n",
       "1  0.761055  0.547066  0.762039  0.720414\n",
       "2  0.761588  0.547089  0.748739  0.719905\n",
       "3  0.630186  0.642320  0.804791  0.648269\n",
       "4  0.784793  0.657972  0.758207  0.603382"
      ]
     },
     "execution_count": 13,
     "metadata": {},
     "output_type": "execute_result"
    }
   ],
   "source": [
    "FA_Score = fa.fit_transform(numeric_data_standardized)\n",
    "FA_Score = pd.DataFrame(FA_Score, columns=['FA_1', 'FA_2','FA_3','FA_4'])\n",
    "FA_Score_standardized = (FA_Score - FA_Score.min()) / (FA_Score.max() - FA_Score.min())\n",
    "FA_Score_standardized.head()"
   ]
  },
  {
   "cell_type": "markdown",
   "id": "4d8a50ec",
   "metadata": {},
   "source": [
    "### Calculate PCA_Score"
   ]
  },
  {
   "cell_type": "code",
   "execution_count": 14,
   "id": "e094a32d",
   "metadata": {},
   "outputs": [],
   "source": [
    "col_factor1 = ['AR_SCORE', 'ER_SCORE', 'EO_SCORE']\n",
    "col_factor2 = ['IF_SCORE', 'IS_SCORE']\n",
    "col_factor3 = ['FS_SCORE']\n",
    "col_factor4 = ['CPF_SCORE', 'IRN_SCORE', 'S_SCORE']\n",
    "factor1 = numeric_data_standardized[col_factor1]\n",
    "factor2 = numeric_data_standardized[col_factor2]\n",
    "factor3 = numeric_data_standardized[col_factor3]\n",
    "factor4 = numeric_data_standardized[col_factor4]"
   ]
  },
  {
   "cell_type": "code",
   "execution_count": 15,
   "id": "566c0f01",
   "metadata": {},
   "outputs": [],
   "source": [
    "# PCA for each factor\n",
    "factor_num = loadings.shape[1]\n",
    "explained_variance_ratio = np.zeros(factor_num)\n",
    "\n",
    "pca = PCA(n_components = 1)\n",
    "pca_scores1 = pca.fit_transform(factor1)\n",
    "explained_variance_ratio[0] = pca.explained_variance_ratio_[0]\n",
    "pca_scores2 = pca.fit_transform(factor2)\n",
    "explained_variance_ratio[1] = pca.explained_variance_ratio_[0]\n",
    "pca_scores3 = pca.fit_transform(factor3)\n",
    "explained_variance_ratio[2] = pca.explained_variance_ratio_[0]\n",
    "pca_scores4 = pca.fit_transform(factor4)\n",
    "explained_variance_ratio[3] = pca.explained_variance_ratio_[0]"
   ]
  },
  {
   "cell_type": "code",
   "execution_count": 16,
   "id": "31cc24d7",
   "metadata": {},
   "outputs": [
    {
     "name": "stdout",
     "output_type": "stream",
     "text": [
      "Factor 1: 87.70% variance explained\n",
      "Factor 2: 84.25% variance explained\n",
      "Factor 3: 100.00% variance explained\n",
      "Factor 4: 76.17% variance explained\n"
     ]
    }
   ],
   "source": [
    "for i, var in enumerate(explained_variance_ratio, start=1):\n",
    "    print(f\"Factor {i}: {var * 100:.2f}% variance explained\")"
   ]
  },
  {
   "cell_type": "code",
   "execution_count": 17,
   "id": "9b551ce0",
   "metadata": {},
   "outputs": [
    {
     "data": {
      "text/html": [
       "<div>\n",
       "<style scoped>\n",
       "    .dataframe tbody tr th:only-of-type {\n",
       "        vertical-align: middle;\n",
       "    }\n",
       "\n",
       "    .dataframe tbody tr th {\n",
       "        vertical-align: top;\n",
       "    }\n",
       "\n",
       "    .dataframe thead th {\n",
       "        text-align: right;\n",
       "    }\n",
       "</style>\n",
       "<table border=\"1\" class=\"dataframe\">\n",
       "  <thead>\n",
       "    <tr style=\"text-align: right;\">\n",
       "      <th></th>\n",
       "      <th>pca_1</th>\n",
       "      <th>pca_2</th>\n",
       "      <th>pca_3</th>\n",
       "      <th>pca_4</th>\n",
       "    </tr>\n",
       "  </thead>\n",
       "  <tbody>\n",
       "    <tr>\n",
       "      <th>0</th>\n",
       "      <td>0.995439</td>\n",
       "      <td>0.979328</td>\n",
       "      <td>1.000000</td>\n",
       "      <td>0.926707</td>\n",
       "    </tr>\n",
       "    <tr>\n",
       "      <th>1</th>\n",
       "      <td>0.999386</td>\n",
       "      <td>0.853371</td>\n",
       "      <td>1.000000</td>\n",
       "      <td>0.979129</td>\n",
       "    </tr>\n",
       "    <tr>\n",
       "      <th>2</th>\n",
       "      <td>0.998265</td>\n",
       "      <td>0.851726</td>\n",
       "      <td>0.982811</td>\n",
       "      <td>0.978599</td>\n",
       "    </tr>\n",
       "    <tr>\n",
       "      <th>3</th>\n",
       "      <td>0.830329</td>\n",
       "      <td>0.911039</td>\n",
       "      <td>1.000000</td>\n",
       "      <td>0.802198</td>\n",
       "    </tr>\n",
       "    <tr>\n",
       "      <th>4</th>\n",
       "      <td>0.998849</td>\n",
       "      <td>0.975315</td>\n",
       "      <td>1.000000</td>\n",
       "      <td>0.889458</td>\n",
       "    </tr>\n",
       "  </tbody>\n",
       "</table>\n",
       "</div>"
      ],
      "text/plain": [
       "      pca_1     pca_2     pca_3     pca_4\n",
       "0  0.995439  0.979328  1.000000  0.926707\n",
       "1  0.999386  0.853371  1.000000  0.979129\n",
       "2  0.998265  0.851726  0.982811  0.978599\n",
       "3  0.830329  0.911039  1.000000  0.802198\n",
       "4  0.998849  0.975315  1.000000  0.889458"
      ]
     },
     "execution_count": 17,
     "metadata": {},
     "output_type": "execute_result"
    }
   ],
   "source": [
    "PCA_Score = np.column_stack((pca_scores1, pca_scores2, pca_scores3, pca_scores4))\n",
    "PCA_Score = pd.DataFrame(PCA_Score, columns=['pca_1', 'pca_2','pca_3','pca_4'])\n",
    "PCA_Score_standardized = (PCA_Score - PCA_Score.min()) / (PCA_Score.max() - PCA_Score.min())\n",
    "PCA_Score_standardized.head()"
   ]
  },
  {
   "cell_type": "code",
   "execution_count": 18,
   "id": "337c9ffa",
   "metadata": {},
   "outputs": [
    {
     "data": {
      "text/html": [
       "<div>\n",
       "<style scoped>\n",
       "    .dataframe tbody tr th:only-of-type {\n",
       "        vertical-align: middle;\n",
       "    }\n",
       "\n",
       "    .dataframe tbody tr th {\n",
       "        vertical-align: top;\n",
       "    }\n",
       "\n",
       "    .dataframe thead th {\n",
       "        text-align: right;\n",
       "    }\n",
       "</style>\n",
       "<table border=\"1\" class=\"dataframe\">\n",
       "  <thead>\n",
       "    <tr style=\"text-align: right;\">\n",
       "      <th></th>\n",
       "      <th>Institution Name</th>\n",
       "      <th>Country</th>\n",
       "      <th>Year</th>\n",
       "      <th>FA_1</th>\n",
       "      <th>FA_2</th>\n",
       "      <th>FA_3</th>\n",
       "      <th>FA_4</th>\n",
       "      <th>pca_1</th>\n",
       "      <th>pca_2</th>\n",
       "      <th>pca_3</th>\n",
       "      <th>pca_4</th>\n",
       "    </tr>\n",
       "  </thead>\n",
       "  <tbody>\n",
       "    <tr>\n",
       "      <th>0</th>\n",
       "      <td>MASSACHUSETTS INSTITUTE OF TECHNOLOGY (MIT)</td>\n",
       "      <td>United States</td>\n",
       "      <td>2018</td>\n",
       "      <td>0.759353</td>\n",
       "      <td>0.660649</td>\n",
       "      <td>0.758502</td>\n",
       "      <td>0.653160</td>\n",
       "      <td>0.995439</td>\n",
       "      <td>0.979328</td>\n",
       "      <td>1.000000</td>\n",
       "      <td>0.926707</td>\n",
       "    </tr>\n",
       "    <tr>\n",
       "      <th>1</th>\n",
       "      <td>STANFORD UNIVERSITY</td>\n",
       "      <td>United States</td>\n",
       "      <td>2018</td>\n",
       "      <td>0.761055</td>\n",
       "      <td>0.547066</td>\n",
       "      <td>0.762039</td>\n",
       "      <td>0.720414</td>\n",
       "      <td>0.999386</td>\n",
       "      <td>0.853371</td>\n",
       "      <td>1.000000</td>\n",
       "      <td>0.979129</td>\n",
       "    </tr>\n",
       "    <tr>\n",
       "      <th>2</th>\n",
       "      <td>HARVARD UNIVERSITY</td>\n",
       "      <td>United States</td>\n",
       "      <td>2018</td>\n",
       "      <td>0.761588</td>\n",
       "      <td>0.547089</td>\n",
       "      <td>0.748739</td>\n",
       "      <td>0.719905</td>\n",
       "      <td>0.998265</td>\n",
       "      <td>0.851726</td>\n",
       "      <td>0.982811</td>\n",
       "      <td>0.978599</td>\n",
       "    </tr>\n",
       "    <tr>\n",
       "      <th>3</th>\n",
       "      <td>CALIFORNIA INSTITUTE OF TECHNOLOGY (CALTECH)</td>\n",
       "      <td>United States</td>\n",
       "      <td>2018</td>\n",
       "      <td>0.630186</td>\n",
       "      <td>0.642320</td>\n",
       "      <td>0.804791</td>\n",
       "      <td>0.648269</td>\n",
       "      <td>0.830329</td>\n",
       "      <td>0.911039</td>\n",
       "      <td>1.000000</td>\n",
       "      <td>0.802198</td>\n",
       "    </tr>\n",
       "    <tr>\n",
       "      <th>4</th>\n",
       "      <td>UNIVERSITY OF CAMBRIDGE</td>\n",
       "      <td>United Kingdom</td>\n",
       "      <td>2018</td>\n",
       "      <td>0.784793</td>\n",
       "      <td>0.657972</td>\n",
       "      <td>0.758207</td>\n",
       "      <td>0.603382</td>\n",
       "      <td>0.998849</td>\n",
       "      <td>0.975315</td>\n",
       "      <td>1.000000</td>\n",
       "      <td>0.889458</td>\n",
       "    </tr>\n",
       "  </tbody>\n",
       "</table>\n",
       "</div>"
      ],
      "text/plain": [
       "                               Institution Name         Country  Year  \\\n",
       "0  MASSACHUSETTS INSTITUTE OF TECHNOLOGY (MIT)    United States  2018   \n",
       "1                           STANFORD UNIVERSITY   United States  2018   \n",
       "2                            HARVARD UNIVERSITY   United States  2018   \n",
       "3  CALIFORNIA INSTITUTE OF TECHNOLOGY (CALTECH)   United States  2018   \n",
       "4                       UNIVERSITY OF CAMBRIDGE  United Kingdom  2018   \n",
       "\n",
       "       FA_1      FA_2      FA_3      FA_4     pca_1     pca_2     pca_3  \\\n",
       "0  0.759353  0.660649  0.758502  0.653160  0.995439  0.979328  1.000000   \n",
       "1  0.761055  0.547066  0.762039  0.720414  0.999386  0.853371  1.000000   \n",
       "2  0.761588  0.547089  0.748739  0.719905  0.998265  0.851726  0.982811   \n",
       "3  0.630186  0.642320  0.804791  0.648269  0.830329  0.911039  1.000000   \n",
       "4  0.784793  0.657972  0.758207  0.603382  0.998849  0.975315  1.000000   \n",
       "\n",
       "      pca_4  \n",
       "0  0.926707  \n",
       "1  0.979129  \n",
       "2  0.978599  \n",
       "3  0.802198  \n",
       "4  0.889458  "
      ]
     },
     "execution_count": 18,
     "metadata": {},
     "output_type": "execute_result"
    }
   ],
   "source": [
    "model_score = pd.concat([data[['Institution Name','Country','Year']],FA_Score_standardized, PCA_Score_standardized],axis = 1)\n",
    "model_score.to_csv('datasets\\model_score.csv',index = False)\n",
    "model_score.head()"
   ]
  },
  {
   "cell_type": "code",
   "execution_count": null,
   "id": "31b9aa71",
   "metadata": {},
   "outputs": [],
   "source": []
  }
 ],
 "metadata": {
  "kernelspec": {
   "display_name": "Python 3 (ipykernel)",
   "language": "python",
   "name": "python3"
  },
  "language_info": {
   "codemirror_mode": {
    "name": "ipython",
    "version": 3
   },
   "file_extension": ".py",
   "mimetype": "text/x-python",
   "name": "python",
   "nbconvert_exporter": "python",
   "pygments_lexer": "ipython3",
   "version": "3.9.13"
  }
 },
 "nbformat": 4,
 "nbformat_minor": 5
}
